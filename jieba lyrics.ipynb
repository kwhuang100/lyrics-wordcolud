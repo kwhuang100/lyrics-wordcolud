{
 "cells": [
  {
   "cell_type": "code",
   "execution_count": 8,
   "id": "f3a9f3b7",
   "metadata": {},
   "outputs": [],
   "source": [
    "import requests\n",
    "from bs4 import BeautifulSoup as Soup\n",
    "import re"
   ]
  },
  {
   "cell_type": "markdown",
   "id": "796b3ea9",
   "metadata": {},
   "source": [
    "## 爬取 指定歌手的 專輯名稱 製作人 網址"
   ]
  },
  {
   "cell_type": "code",
   "execution_count": 15,
   "id": "b89eb2da",
   "metadata": {},
   "outputs": [],
   "source": [
    "# 設定變數\n",
    "search_word = '五月天'\n",
    "max_page = 3\n",
    "only_producer = '五月天 (Mayday)'\n",
    "exception_word_in_album = ['巡迴','演唱會','Live','LIVE', 'live', '電影原聲帶','搶先聽', '原聲']"
   ]
  },
  {
   "cell_type": "code",
   "execution_count": 18,
   "id": "c679dd4c",
   "metadata": {},
   "outputs": [
    {
     "name": "stdout",
     "output_type": "stream",
     "text": [
      "因為你 所以我 (Because Of You)\n",
      "自傳 (history of Tomorrow)\n",
      "五月天 | 步步 | 自選作品輯 the Best of 1999-2013\n",
      "第二人生 Now Here 明日版\n",
      "後 青春期的詩\n",
      "愛情萬歲\n",
      "第一張創作專輯\n",
      "人生海海\n",
      "神的孩子都在跳舞\n",
      "時光機\n",
      "為愛而生\n",
      "勇敢 (Braveness)\n",
      "溫柔 #MaydayBlue20th (TENDERNESS #MaydayBlue20th)\n",
      "玫瑰少年 (Womxnly)\n",
      "將軍令\n",
      "離開地球表面\n",
      "知足 just my pride 最真傑作選\n",
      "凡人歌 (Song of Ordinary People)\n",
      "我們是五月天\n",
      "什麼歌 (What A Song)\n",
      "轉眼（2018 自傳最終章） (Final Chapter)\n",
      "由我們主宰\n",
      "後來的我們 (眼淚未乾版) (Here, After, Us (Film Song Version))\n",
      "DNA\n",
      "瘋狂世界 #MaydayBlue20th (World Crazy #MaydayBlue20th)\n",
      "小太陽\n",
      "純真 #MaydayBlue20th (INNOCENCE #MaydayBlue20th)\n",
      "Do You Ever Shine?\n",
      "I WILL CARRY YOU\n",
      "YOUR LEGEND ～燃ゆる命～\n",
      "Dancin' Dancin'\n",
      "候鳥五月天電影音樂作品\n"
     ]
    }
   ],
   "source": [
    "userAgent = 'Mozilla/5.0 (Windows NT 10.0; Win64; x64) AppleWebKit/537.36 (KHTML, like Gecko) Chrome/90.0.4430.93 Safari/537.36'\n",
    "headers = {\n",
    "    'User-Agent':userAgent\n",
    "    }\n",
    "\n",
    "album_list = []\n",
    "for page in range(1,max_page+1):\n",
    "    url = 'https://www.kkbox.com/tw/tc/search.php?word={}&search=album&cur_page={}'.format(search_word,page)\n",
    "    res = requests.get(url, headers=headers)\n",
    "    soup = Soup(res.text, 'html.parser')\n",
    "    raw_list = soup.select('div.album > div.height-wrap')\n",
    "    for album in raw_list:\n",
    "        to_next = False\n",
    "        album_url = 'https://www.kkbox.com'+ album.select_one('h3 > a')['href']\n",
    "        album_name = album.select_one('h3 > a')['title']\n",
    "        try:\n",
    "            producer = album.select_one('div.playlist-sharer > a')['title']\n",
    "        except:\n",
    "            continue\n",
    "        if producer != only_producer:\n",
    "            continue\n",
    "        for not_word in exception_word_in_album:\n",
    "            if not_word in album_name:\n",
    "                to_next = True\n",
    "                break\n",
    "        if to_next:\n",
    "            continue\n",
    "        album_list.append([album_name, producer, album_url])\n",
    "        print(album_name)"
   ]
  },
  {
   "cell_type": "code",
   "execution_count": 19,
   "id": "727f3e5f",
   "metadata": {},
   "outputs": [
    {
     "data": {
      "text/plain": [
       "32"
      ]
     },
     "execution_count": 19,
     "metadata": {},
     "output_type": "execute_result"
    }
   ],
   "source": [
    "len(album_list)"
   ]
  },
  {
   "cell_type": "markdown",
   "id": "6be7faf7",
   "metadata": {},
   "source": [
    "## 爬取 專輯內歌曲的 歌曲名稱 網址"
   ]
  },
  {
   "cell_type": "code",
   "execution_count": 32,
   "id": "6ad274d3",
   "metadata": {},
   "outputs": [],
   "source": [
    "no_song_name = ['版','version','Live','live','LIVE', 'remix','日本','片尾曲', '插曲','主題']"
   ]
  },
  {
   "cell_type": "code",
   "execution_count": 46,
   "id": "162d085f",
   "metadata": {},
   "outputs": [
    {
     "name": "stdout",
     "output_type": "stream",
     "text": [
      "finish 因為你 所以我 (Because Of You)\n",
      "finish 自傳 (history of Tomorrow)\n",
      "finish 五月天 | 步步 | 自選作品輯 the Best of 1999-2013\n",
      "finish 第二人生 Now Here 明日版\n",
      "finish 後 青春期的詩\n",
      "finish 愛情萬歲\n",
      "finish 第一張創作專輯\n",
      "finish 人生海海\n",
      "finish 神的孩子都在跳舞\n",
      "finish 時光機\n",
      "finish 為愛而生\n",
      "finish 勇敢 (Braveness)\n",
      "finish 溫柔 #MaydayBlue20th (TENDERNESS #MaydayBlue20th)\n",
      "finish 玫瑰少年 (Womxnly)\n",
      "finish 將軍令\n",
      "finish 離開地球表面\n",
      "finish 知足 just my pride 最真傑作選\n",
      "finish 凡人歌 (Song of Ordinary People)\n",
      "finish 我們是五月天\n",
      "finish 什麼歌 (What A Song)\n",
      "finish 轉眼（2018 自傳最終章） (Final Chapter)\n",
      "finish 由我們主宰\n",
      "finish 後來的我們 (眼淚未乾版) (Here, After, Us (Film Song Version))\n",
      "finish DNA\n",
      "finish 瘋狂世界 #MaydayBlue20th (World Crazy #MaydayBlue20th)\n",
      "finish 小太陽\n",
      "finish 純真 #MaydayBlue20th (INNOCENCE #MaydayBlue20th)\n",
      "finish Do You Ever Shine?\n",
      "finish I WILL CARRY YOU\n",
      "finish YOUR LEGEND ～燃ゆる命～\n",
      "finish Dancin' Dancin'\n",
      "finish 候鳥五月天電影音樂作品\n",
      "162\n"
     ]
    }
   ],
   "source": [
    "total_song = dict()\n",
    "for a in album_list:\n",
    "    res = requests.get(a[2], headers=headers)\n",
    "    soup = Soup(res.text, 'html.parser')\n",
    "    song_list = soup.select('a.song-title')\n",
    "    for s in song_list:\n",
    "        to_next=False\n",
    "        song_url = 'https://www.kkbox.com' + s['href']\n",
    "        song = s['title']\n",
    "        for n in no_song_name:\n",
    "            if n in song:\n",
    "                to_next=True\n",
    "                break\n",
    "    #         total_song.append([a[0], song, song_url])\n",
    "        if to_next:\n",
    "            continue\n",
    "        try: \n",
    "            total_song[song] = total_song[song]\n",
    "        except:\n",
    "            total_song[song] = []\n",
    "            total_song[song].extend([a[0],song_url])\n",
    "    print('finish',a[0])\n",
    "print(len(total_song))"
   ]
  },
  {
   "cell_type": "code",
   "execution_count": 47,
   "id": "4db1de0e",
   "metadata": {
    "scrolled": true
   },
   "outputs": [
    {
     "data": {
      "text/plain": [
       "{'因為你 所以我 (Because Of You)': ['因為你 所以我 (Because Of You)',\n",
       "  'https://www.kkbox.com/tw/tc/song/.xR00G7YGLMOJydwOJydw0XL-index.html'],\n",
       " '如果我們不曾相遇 (What If We Had Never Met)': ['自傳 (history of Tomorrow)',\n",
       "  'https://www.kkbox.com/tw/tc/song/SnX00.XKN9XtJtRDtJtRD0XL-index.html'],\n",
       " '成名在望 (Almost Famous)': ['自傳 (history of Tomorrow)',\n",
       "  'https://www.kkbox.com/tw/tc/song/THn00E1KN9XMjNrDMjNrD0XL-index.html'],\n",
       " '好好 (想把你寫成一首歌) (Song About You)': ['自傳 (history of Tomorrow)',\n",
       "  'https://www.kkbox.com/tw/tc/song/5-o00yHKN9X5T75D5T75D0XL-index.html'],\n",
       " '兄弟 (Brotherhood)': ['自傳 (history of Tomorrow)',\n",
       "  'https://www.kkbox.com/tw/tc/song/het00UHKN9XjBPXDjBPXD0XL-index.html'],\n",
       " '人生有限公司 (Life Co. Ltd.)': ['自傳 (history of Tomorrow)',\n",
       "  'https://www.kkbox.com/tw/tc/song/Uf000G2KN9XNzUoDNzUoD0XL-index.html'],\n",
       " '後來的我們 (Here, After, Us)': ['自傳 (history of Tomorrow)',\n",
       "  'https://www.kkbox.com/tw/tc/song/jpg00PlKN9Xc1cdDc1cdD0XL-index.html'],\n",
       " '頑固 (Tough)': ['自傳 (history of Tomorrow)',\n",
       "  'https://www.kkbox.com/tw/tc/song/t0N004IKN9X6hE2D6hE2D0XL-index.html'],\n",
       " '派對動物 (Party Animal)': ['自傳 (history of Tomorrow)',\n",
       "  'https://www.kkbox.com/tw/tc/song/IZT009XKN9XF.azDF.azD0XL-index.html'],\n",
       " '最好的一天 (Best Day of My Life)': ['自傳 (history of Tomorrow)',\n",
       "  'https://www.kkbox.com/tw/tc/song/pqH00WIKN9XkRWUDkRWUD0XL-index.html'],\n",
       " '少年他的奇幻漂流 (Life of Planet)': ['自傳 (history of Tomorrow)',\n",
       "  'https://www.kkbox.com/tw/tc/song/QXo00KYKN9XV9FgDV9FgD0XL-index.html'],\n",
       " '終於結束的起點 (Beginning of the End)': ['自傳 (history of Tomorrow)',\n",
       "  'https://www.kkbox.com/tw/tc/song/a2C008mKN9XDqyuDDqyuD0XL-index.html'],\n",
       " '任意門 (Dokodemo Door)': ['自傳 (history of Tomorrow)',\n",
       "  'https://www.kkbox.com/tw/tc/song/5AF00-mKN9Xr.HMDr.HMD0XL-index.html'],\n",
       " '轉眼 (Final Chapter)': ['自傳 (history of Tomorrow)',\n",
       "  'https://www.kkbox.com/tw/tc/song/Ztf00P2KN9XaJ0-DaJ0-D0XL-index.html'],\n",
       " '擁抱': ['五月天 | 步步 | 自選作品輯 the Best of 1999-2013',\n",
       "  'https://www.kkbox.com/tw/tc/song/lo9Ae1WWbHm3c2TG3c2TG0PL-index.html'],\n",
       " '傷心的人別聽慢歌 (貫徹快樂)': ['五月天 | 步步 | 自選作品輯 the Best of 1999-2013',\n",
       "  'https://www.kkbox.com/tw/tc/song/aiLeU2GWbHm5QUfG5QUfG0PL-index.html'],\n",
       " '洋蔥': ['五月天 | 步步 | 自選作品輯 the Best of 1999-2013',\n",
       "  'https://www.kkbox.com/tw/tc/song/MEhel2L-bHm5hvmk5hvmk0PL-index.html'],\n",
       " '乾杯': ['五月天 | 步步 | 自選作品輯 the Best of 1999-2013',\n",
       "  'https://www.kkbox.com/tw/tc/song/UONgP2O-bHm5tODk5tODk0PL-index.html'],\n",
       " '入陣曲': ['五月天 | 步步 | 自選作品輯 the Best of 1999-2013',\n",
       "  'https://www.kkbox.com/tw/tc/song/cP0Uh0d-bHm1mAWk1mAWk0PL-index.html'],\n",
       " '倔強': ['五月天 | 步步 | 自選作品輯 the Best of 1999-2013',\n",
       "  'https://www.kkbox.com/tw/tc/song/q8nTZ0r0rHm2DIMW2DIMW0PL-index.html'],\n",
       " '突然好想你': ['五月天 | 步步 | 自選作品輯 the Best of 1999-2013',\n",
       "  'https://www.kkbox.com/tw/tc/song/w4u-f0-4rHm1S4w01S4w00PL-index.html'],\n",
       " '戀愛ing': ['五月天 | 步步 | 自選作品輯 the Best of 1999-2013',\n",
       "  'https://www.kkbox.com/tw/tc/song/AQKkW0N8rHm11kNW11kNW0PL-index.html'],\n",
       " '離開地球表面': ['五月天 | 步步 | 自選作品輯 the Best of 1999-2013',\n",
       "  'https://www.kkbox.com/tw/tc/song/PZL3g1-CrHm3pRP03pRP00PL-index.html'],\n",
       " '星空': ['五月天 | 步步 | 自選作品輯 the Best of 1999-2013',\n",
       "  'https://www.kkbox.com/tw/tc/song/yA9R41mGrHm4KKvW4KKvW0PL-index.html'],\n",
       " '我不願讓你一個人': ['五月天 | 步步 | 自選作品輯 the Best of 1999-2013',\n",
       "  'https://www.kkbox.com/tw/tc/song/WCrUN1GKrHm30mG030mG00PL-index.html'],\n",
       " '人生海海': ['五月天 | 步步 | 自選作品輯 the Best of 1999-2013',\n",
       "  'https://www.kkbox.com/tw/tc/song/mUzUv26KrHm5A7K05A7K00PL-index.html'],\n",
       " '知足': ['五月天 | 步步 | 自選作品輯 the Best of 1999-2013',\n",
       "  'https://www.kkbox.com/tw/tc/song/FkFdU1tOrHm4jmjW4jmjW0PL-index.html'],\n",
       " '你是唯一 - TVBS偶像劇<A咖的路>片頭曲': ['五月天 | 步步 | 自選作品輯 the Best of 1999-2013',\n",
       "  'https://www.kkbox.com/tw/tc/song/xlbPG0kD7Hm1nl3G1nl3G0PL-index.html'],\n",
       " '夜訪吸血鬼': ['五月天 | 步步 | 自選作品輯 the Best of 1999-2013',\n",
       "  'https://www.kkbox.com/tw/tc/song/K2fhh1JH7Hm3Bsgk3Bsgk0PL-index.html'],\n",
       " '如煙': ['五月天 | 步步 | 自選作品輯 the Best of 1999-2013',\n",
       "  'https://www.kkbox.com/tw/tc/song/YpVHc1cH7Hm456nk456nk0PL-index.html'],\n",
       " '盛夏光年': ['五月天 | 步步 | 自選作品輯 the Best of 1999-2013',\n",
       "  'https://www.kkbox.com/tw/tc/song/vjQ3j24P7Hm52tsk52tsk0PL-index.html'],\n",
       " '一顆蘋果': ['五月天 | 步步 | 自選作品輯 the Best of 1999-2013',\n",
       "  'https://www.kkbox.com/tw/tc/song/mq6lU0OP7Hm178ak178ak0PL-index.html'],\n",
       " '三個傻瓜': ['五月天 | 步步 | 自選作品輯 the Best of 1999-2013',\n",
       "  'https://www.kkbox.com/tw/tc/song/DVg641XX7Hm3fvUk3fvUk0PL-index.html'],\n",
       " '孫悟空': ['五月天 | 步步 | 自選作品輯 the Best of 1999-2013',\n",
       "  'https://www.kkbox.com/tw/tc/song/auOc71m.7Hm4MHSG4MHSG0PL-index.html'],\n",
       " '摩托車日記': ['五月天 | 步步 | 自選作品輯 the Best of 1999-2013',\n",
       "  'https://www.kkbox.com/tw/tc/song/TnfSI1K9NHm3EyT03EyT00PL-index.html'],\n",
       " '最重要的小事': ['五月天 | 步步 | 自選作品輯 the Best of 1999-2013',\n",
       "  'https://www.kkbox.com/tw/tc/song/RYTAs11PNHm2UuI02UuI00PL-index.html'],\n",
       " '愛情萬歲': ['五月天 | 步步 | 自選作品輯 the Best of 1999-2013',\n",
       "  'https://www.kkbox.com/tw/tc/song/oW.Te1tTNHm4kG2W4kG2W0PL-index.html'],\n",
       " '雌雄同體': ['五月天 | 步步 | 自選作品輯 the Best of 1999-2013',\n",
       "  'https://www.kkbox.com/tw/tc/song/HNvLl1NXNHm3ShN03ShN00PL-index.html'],\n",
       " '生命有一種絕對': ['五月天 | 步步 | 自選作品輯 the Best of 1999-2013',\n",
       "  'https://www.kkbox.com/tw/tc/song/8GP4g11.NHm2W3XW2W3XW0PL-index.html'],\n",
       " '諾亞方舟': ['五月天 | 步步 | 自選作品輯 the Best of 1999-2013',\n",
       "  'https://www.kkbox.com/tw/tc/song/VfVL.1k1bHm4BIKG4BIKG0PL-index.html'],\n",
       " '我心中尚未崩壞的地方\\xa0': ['五月天 | 步步 | 自選作品輯 the Best of 1999-2013',\n",
       "  'https://www.kkbox.com/tw/tc/song/q5BAh1W5bHm3.XKk3.XKk0PL-index.html'],\n",
       " '憨人': ['五月天 | 步步 | 自選作品輯 the Best of 1999-2013',\n",
       "  'https://www.kkbox.com/tw/tc/song/qkGVF0m9bHm1v5nG1v5nG0PL-index.html'],\n",
       " '有些事現在不做\\xa0一輩子都不會做了': ['第二人生 Now Here 明日版',\n",
       "  'https://www.kkbox.com/tw/tc/song/TJ-ydBr09HHXZ-3.N-3.N0P4-index.html'],\n",
       " '洗衣機': ['第二人生 Now Here 明日版',\n",
       "  'https://www.kkbox.com/tw/tc/song/yXw6wq603HHXZDAjNDAjN0P4-index.html'],\n",
       " '三個傻瓜\\xa0': ['第二人生 Now Here 明日版',\n",
       "  'https://www.kkbox.com/tw/tc/song/C7v7A4106HHXZObANObAN0P4-index.html'],\n",
       " '歪腰': ['第二人生 Now Here 明日版',\n",
       "  'https://www.kkbox.com/tw/tc/song/6kAtp7t04HHXZGysNGysN0P4-index.html'],\n",
       " '倉頡': ['第二人生 Now Here 明日版',\n",
       "  'https://www.kkbox.com/tw/tc/song/lkTfxVm02HHXZ9MaN9MaN0P4-index.html'],\n",
       " '2012': ['第二人生 Now Here 明日版',\n",
       "  'https://www.kkbox.com/tw/tc/song/x5fwUJH01HHXZ5YTN5YTN0P4-index.html'],\n",
       " '第二人生': ['第二人生 Now Here 明日版',\n",
       "  'https://www.kkbox.com/tw/tc/song/CuzXxk208HHXZWFSNWFSN0P4-index.html'],\n",
       " 'OAOA - 現在就是永遠': ['第二人生 Now Here 明日版',\n",
       "  'https://www.kkbox.com/tw/tc/song/6t-M7yS02UN5JAetXAetX0P4-index.html'],\n",
       " 'T1213121': ['第二人生 Now Here 明日版',\n",
       "  'https://www.kkbox.com/tw/tc/song/14DXX-j0FLHXZ26ir26ir0P4-index.html'],\n",
       " '生存以上 生活以下': ['後 青春期的詩',\n",
       "  'https://www.kkbox.com/tw/tc/song/IoopcBr01965l4kFR4kFR0P4-index.html'],\n",
       " '你不是真正的快樂': ['後 青春期的詩',\n",
       "  'https://www.kkbox.com/tw/tc/song/ajrBoC808PO1lX1mNX1mN0P4-index.html'],\n",
       " '爆肝': ['後 青春期的詩',\n",
       "  'https://www.kkbox.com/tw/tc/song/uh5gpS402965l8-OR8-OR0P4-index.html'],\n",
       " '噢買尬': ['後 青春期的詩',\n",
       "  'https://www.kkbox.com/tw/tc/song/IpG2wYJ03965lCOXRCOXR0P4-index.html'],\n",
       " '出頭天': ['後 青春期的詩',\n",
       "  'https://www.kkbox.com/tw/tc/song/C-Oo60205YK.XMVClMVCl0P4-index.html'],\n",
       " '我心中尚未崩壞的地方': ['後 青春期的詩',\n",
       "  'https://www.kkbox.com/tw/tc/song/06Bx8Zo04965lGCeRGCeR0P4-index.html'],\n",
       " '春天的吶喊': ['後 青春期的詩',\n",
       "  'https://www.kkbox.com/tw/tc/song/BFn0JpB05965lK0nRK0nR0P4-index.html'],\n",
       " '後青春期的詩': ['後 青春期的詩',\n",
       "  'https://www.kkbox.com/tw/tc/song/kSh-d5V08965lVTERVTER0P4-index.html'],\n",
       " '笑忘歌': ['後 青春期的詩',\n",
       "  'https://www.kkbox.com/tw/tc/song/SBoc4Pv09965lZHNRZHNR0P4-index.html'],\n",
       " '為什麼 - 今日的愛情': ['愛情萬歲',\n",
       "  'https://www.kkbox.com/tw/tc/song/d01Iltb00TYSs2uDm2uDm0P4-index.html'],\n",
       " '終結孤單': ['愛情萬歲',\n",
       "  'https://www.kkbox.com/tw/tc/song/FJfPvfe00XYSs3IcI3IcI0P4-index.html'],\n",
       " '明白': ['愛情萬歲',\n",
       "  'https://www.kkbox.com/tw/tc/song/8bFqfGI00.YSs3f2m3f2m0P4-index.html'],\n",
       " '心中無別人': ['愛情萬歲',\n",
       "  'https://www.kkbox.com/tw/tc/song/T6Sw6QBwb00xmSsHkYHkY0On-index.html'],\n",
       " '有你的將來': ['愛情萬歲',\n",
       "  'https://www.kkbox.com/tw/tc/song/AIIH-aRvX005mSseB2eB20On-index.html'],\n",
       " '叫我第一名': ['愛情萬歲',\n",
       "  'https://www.kkbox.com/tw/tc/song/l6pzf6X00DmSs1R021R020P4-index.html'],\n",
       " '雨眠': ['愛情萬歲',\n",
       "  'https://www.kkbox.com/tw/tc/song/metgx0Y00HmSs1nQY1nQY0P4-index.html'],\n",
       " '羅密歐與茱麗葉': ['愛情萬歲',\n",
       "  'https://www.kkbox.com/tw/tc/song/lnRPcGX00LmSs2Bp22Bp20P4-index.html'],\n",
       " '溫柔': ['愛情萬歲',\n",
       "  'https://www.kkbox.com/tw/tc/song/e7bCXrH00PmSs2-FY2-FY0P4-index.html'],\n",
       " '反而': ['愛情萬歲',\n",
       "  'https://www.kkbox.com/tw/tc/song/0R02NiL00XmSs3L4Y3L4Y0P4-index.html'],\n",
       " '瘋狂世界': ['第一張創作專輯',\n",
       "  'https://www.kkbox.com/tw/tc/song/Xz4C95600KXXr1zQL1zQL0P4-index.html'],\n",
       " '透露': ['第一張創作專輯',\n",
       "  'https://www.kkbox.com/tw/tc/song/5gg1iVM00SXXr2kFL2kFL0P4-index.html'],\n",
       " '生活': ['第一張創作專輯',\n",
       "  'https://www.kkbox.com/tw/tc/song/LRaTfb300WXXr38dp38dp0P4-index.html'],\n",
       " '愛情的模樣': ['第一張創作專輯',\n",
       "  'https://www.kkbox.com/tw/tc/song/b-XtADz00-XXr3X4L3X4L0P4-index.html'],\n",
       " '嘿我要走了': ['第一張創作專輯',\n",
       "  'https://www.kkbox.com/tw/tc/song/wViB4W0YY00wlXr7m57m50On-index.html'],\n",
       " '軋車': ['第一張創作專輯',\n",
       "  'https://www.kkbox.com/tw/tc/song/SWXK4gkLh004lXrWC.WC.0On-index.html'],\n",
       " '志明與春嬌': ['第一張創作專輯',\n",
       "  'https://www.kkbox.com/tw/tc/song/FKUmyjSbC008lXrsb5sb50On-index.html'],\n",
       " 'Hosee': ['第一張創作專輯',\n",
       "  'https://www.kkbox.com/tw/tc/song/NfjPrj600ClXr1H1.1H1.0P4-index.html'],\n",
       " '黑白講': ['第一張創作專輯',\n",
       "  'https://www.kkbox.com/tw/tc/song/LDWF2lw00GlXr1dS51dS50P4-index.html'],\n",
       " 'I Love You無望': ['第一張創作專輯',\n",
       "  'https://www.kkbox.com/tw/tc/song/UhNtfx300KlXr21q.21q.0P4-index.html'],\n",
       " '風若吹': ['第一張創作專輯',\n",
       "  'https://www.kkbox.com/tw/tc/song/1ORQnXC00OlXr2QH52QH50P4-index.html'],\n",
       " '能不能不要說': ['人生海海',\n",
       "  'https://www.kkbox.com/tw/tc/song/7f8uKuLh-00xqXrIlDIlD0On-index.html'],\n",
       " '好不好': ['人生海海',\n",
       "  'https://www.kkbox.com/tw/tc/song/wnDCPg9UT005qXrfBhfBh0On-index.html'],\n",
       " '相信': ['人生海海',\n",
       "  'https://www.kkbox.com/tw/tc/song/M6PkeDv009qXr13aD13aD0P4-index.html'],\n",
       " 'OK啦': ['人生海海',\n",
       "  'https://www.kkbox.com/tw/tc/song/VHry7q700DqXr1S0h1S0h0P4-index.html'],\n",
       " '借問眾神明': ['人生海海',\n",
       "  'https://www.kkbox.com/tw/tc/song/Fn8Yg2v00HqXr1oRD1oRD0P4-index.html'],\n",
       " '永遠的永遠': ['人生海海',\n",
       "  'https://www.kkbox.com/tw/tc/song/7T0ZtL800LqXr2Cph2Cph0P4-index.html'],\n",
       " '彩虹': ['人生海海',\n",
       "  'https://www.kkbox.com/tw/tc/song/jzVJIO.00PqXr2.GD2.GD0P4-index.html'],\n",
       " '啾啾啾': ['人生海海',\n",
       "  'https://www.kkbox.com/tw/tc/song/EWdKQhe00TqXr2xeh2xeh0P4-index.html'],\n",
       " '純真': ['人生海海',\n",
       "  'https://www.kkbox.com/tw/tc/song/T6-DAiC00XqXr3M5D3M5D0P4-index.html'],\n",
       " '候鳥': ['人生海海',\n",
       "  'https://www.kkbox.com/tw/tc/song/eP5NrMD00.qXr3iVh3iVh0P4-index.html'],\n",
       " '垃圾車': ['神的孩子都在跳舞',\n",
       "  'https://www.kkbox.com/tw/tc/song/iy-0foW00H6Pd1h3D1h3D0P4-index.html'],\n",
       " '小護士': ['神的孩子都在跳舞',\n",
       "  'https://www.kkbox.com/tw/tc/song/P5i7qzh00L6Pd25Th25Th0P4-index.html'],\n",
       " '讓我照顧你': ['神的孩子都在跳舞',\n",
       "  'https://www.kkbox.com/tw/tc/song/pvXWCw-00P6Pd2TsD2TsD0P4-index.html'],\n",
       " '約翰藍儂': ['神的孩子都在跳舞',\n",
       "  'https://www.kkbox.com/tw/tc/song/P7MyAoZ00T6Pd2qIh2qIh0P4-index.html'],\n",
       " '回來吧': ['神的孩子都在跳舞',\n",
       "  'https://www.kkbox.com/tw/tc/song/RZYClbq00X6Pd3EhD3EhD0P4-index.html'],\n",
       " '錯錯錯': ['神的孩子都在跳舞',\n",
       "  'https://www.kkbox.com/tw/tc/song/L0N328m00.6Pd3b7h3b7h0P4-index.html'],\n",
       " '晚安 地球人': ['神的孩子都在跳舞',\n",
       "  'https://www.kkbox.com/tw/tc/song/FHq2cHn8j00xMPdDpTDpT0On-index.html'],\n",
       " '超人': ['神的孩子都在跳舞',\n",
       "  'https://www.kkbox.com/tw/tc/song/BRb3bHCIT005MPdaFxaFx0On-index.html'],\n",
       " '神的孩子都在跳舞': ['神的孩子都在跳舞',\n",
       "  'https://www.kkbox.com/tw/tc/song/jzTh5hpvg009MPdyeTyeT0On-index.html'],\n",
       " '聖誕夜驚魂': ['神的孩子都在跳舞',\n",
       "  'https://www.kkbox.com/tw/tc/song/G4Fg5S100DMPd1N4x1N4x0P4-index.html'],\n",
       " '輕功': ['時光機',\n",
       "  'https://www.kkbox.com/tw/tc/song/UAJPMH700T8Tc2qnW2qnW0P4-index.html'],\n",
       " '恆星的恆心': ['時光機',\n",
       "  'https://www.kkbox.com/tw/tc/song/fS1ZLLa00X8Tc3FE03FE00P4-index.html'],\n",
       " '阿姆斯壯': ['時光機',\n",
       "  'https://www.kkbox.com/tw/tc/song/w8.IHBL.O00xOTcEMGEMG0On-index.html'],\n",
       " '而我知道': ['時光機',\n",
       "  'https://www.kkbox.com/tw/tc/song/3q.JxvSeY005OTcakkakk0On-index.html'],\n",
       " '賭神': ['時光機',\n",
       "  'https://www.kkbox.com/tw/tc/song/6OhJARM5b009OTczBGzBG0On-index.html'],\n",
       " '別惹我': ['時光機',\n",
       "  'https://www.kkbox.com/tw/tc/song/Or.cdIJ00DOTc1N.k1N.k0P4-index.html'],\n",
       " '九號球': ['時光機',\n",
       "  'https://www.kkbox.com/tw/tc/song/NOL2FpB00HOTc1k0G1k0G0P4-index.html'],\n",
       " '武裝': ['時光機',\n",
       "  'https://www.kkbox.com/tw/tc/song/nZ.TCcj00LOTc28Qk28Qk0P4-index.html'],\n",
       " '時光機': ['時光機',\n",
       "  'https://www.kkbox.com/tw/tc/song/YYwirsb00POTc2WpG2WpG0P4-index.html'],\n",
       " '我們(時時刻刻)': ['時光機',\n",
       "  'https://www.kkbox.com/tw/tc/song/sECK7qa00TOTc2tFk2tFk0P4-index.html'],\n",
       " '在這一秒': ['時光機',\n",
       "  'https://www.kkbox.com/tw/tc/song/.eZAsOT00XOTc3HeG3HeG0P4-index.html'],\n",
       " '王子麵': ['時光機',\n",
       "  'https://www.kkbox.com/tw/tc/song/L8pzBHH0p00xcTcGmWGmW0On-index.html'],\n",
       " '小時候': ['時光機',\n",
       "  'https://www.kkbox.com/tw/tc/song/EF-vEfC.R005cTcdD0dD00On-index.html'],\n",
       " '前傳': ['為愛而生',\n",
       "  'https://www.kkbox.com/tw/tc/song/j5G4e2G06DHKlOEefOEef0P4-index.html'],\n",
       " '為愛而生': ['為愛而生',\n",
       "  'https://www.kkbox.com/tw/tc/song/qNHlHdU07DHKlS2nfS2nf0P4-index.html'],\n",
       " '天使': ['為愛而生',\n",
       "  'https://www.kkbox.com/tw/tc/song/jx1cpPa08DHKlVqwfVqwf0P4-index.html'],\n",
       " '我又初戀了': ['為愛而生',\n",
       "  'https://www.kkbox.com/tw/tc/song/ohAy-B009DHKlZf5fZf5f0P4-index.html'],\n",
       " '香水': ['為愛而生',\n",
       "  'https://www.kkbox.com/tw/tc/song/ZpI0vI-0FHHKl1iFB1iFB0P4-index.html'],\n",
       " '快樂很偉大': ['為愛而生',\n",
       "  'https://www.kkbox.com/tw/tc/song/6-CwoBT03HHKlDAeBDAeB0P4-index.html'],\n",
       " '忘詞': ['為愛而生',\n",
       "  'https://www.kkbox.com/tw/tc/song/chXgZLA04HHKlGynBGynB0P4-index.html'],\n",
       " '寵上天': ['為愛而生',\n",
       "  'https://www.kkbox.com/tw/tc/song/siHr.BL05HHKlKmwBKmwB0P4-index.html'],\n",
       " '米老鼠': ['為愛而生',\n",
       "  'https://www.kkbox.com/tw/tc/song/0Vtv4gS06HHKlOb5BOb5B0P4-index.html'],\n",
       " '一千個世紀': ['為愛而生',\n",
       "  'https://www.kkbox.com/tw/tc/song/nFTNaM707HHKlSREBSREB0P4-index.html'],\n",
       " '胎音': ['為愛而生',\n",
       "  'https://www.kkbox.com/tw/tc/song/dAuQ6Wo08HHKlWFNBWFNB0P4-index.html'],\n",
       " '勇敢 (Braveness)': ['勇敢 (Braveness)',\n",
       "  'https://www.kkbox.com/tw/tc/song/pvU00UN1t-XjWb.ljWb.l0XL-index.html'],\n",
       " '溫柔 #MaydayBlue20th (TENDERNESS #MaydayBlue20th)': ['溫柔 #MaydayBlue20th (TENDERNESS #MaydayBlue20th)',\n",
       "  'https://www.kkbox.com/tw/tc/song/HFo00-11q4LphLIJphLIJ0XL-index.html'],\n",
       " '玫瑰少年 (Womxnly)': ['玫瑰少年 (Womxnly)',\n",
       "  'https://www.kkbox.com/tw/tc/song/X6z00X7061omV4.umV4.u0XL-index.html'],\n",
       " '私奔到月球': ['離開地球表面',\n",
       "  'https://www.kkbox.com/tw/tc/song/Cd6FuXI060kP1N0KlN0Kl0P4-index.html'],\n",
       " 'to find my paradise with 紀曉君': ['離開地球表面',\n",
       "  'https://www.kkbox.com/tw/tc/song/Zt7GL3t07MMP1SydXSydX0P4-index.html'],\n",
       " '牙關': ['知足 just my pride 最真傑作選',\n",
       "  'https://www.kkbox.com/tw/tc/song/xlPxTyv00GYaP1bHN1bHN0P4-index.html'],\n",
       " '亂世浮生': ['知足 just my pride 最真傑作選',\n",
       "  'https://www.kkbox.com/tw/tc/song/2gQghqF00KYaP1zfr1zfr0P4-index.html'],\n",
       " '聽不到': ['知足 just my pride 最真傑作選',\n",
       "  'https://www.kkbox.com/tw/tc/song/6ryNbH.00OYaP2O6N2O6N0P4-index.html'],\n",
       " '金多蝦': ['知足 just my pride 最真傑作選',\n",
       "  'https://www.kkbox.com/tw/tc/song/ztnZSLl00SmaP2mx72mx70P4-index.html'],\n",
       " '麥來亂': ['知足 just my pride 最真傑作選',\n",
       "  'https://www.kkbox.com/tw/tc/song/MaUJBXX00WmaP3BNb3BNb0P4-index.html'],\n",
       " '未來 - Sailing, With Me': ['知足 just my pride 最真傑作選',\n",
       "  'https://www.kkbox.com/tw/tc/song/zqzkMslfP00yHYPMRvMRv0On-index.html'],\n",
       " '凡人歌 (Song of Ordinary People)': ['凡人歌 (Song of Ordinary People)',\n",
       "  'https://www.kkbox.com/tw/tc/song/me7005t4592AfErQAfErQ0XL-index.html'],\n",
       " '搖滾本事': ['我們是五月天',\n",
       "  'https://www.kkbox.com/tw/tc/song/C2HZ7IN00XY9O3IWm3IWm0P4-index.html'],\n",
       " '我': ['我們是五月天',\n",
       "  'https://www.kkbox.com/tw/tc/song/xjlI21N00Dm9O1QsY1QsY0P4-index.html'],\n",
       " '闖': ['我們是五月天',\n",
       "  'https://www.kkbox.com/tw/tc/song/V8wVY8T00Hm9O1nJ21nJ20P4-index.html'],\n",
       " '轉眼（2018 自傳最終章） (Final Chapter)': ['轉眼（2018 自傳最終章） (Final Chapter)',\n",
       "  'https://www.kkbox.com/tw/tc/song/9tf00IHa9IJTKmbpTKmbp0XL-index.html'],\n",
       " 'DNA': ['DNA',\n",
       "  'https://www.kkbox.com/tw/tc/song/OOzVrUWde0F116HA3bA3b0On-index.html'],\n",
       " '放肆': ['DNA',\n",
       "  'https://www.kkbox.com/tw/tc/song/KHx.io4058JAHJslfJslf0P4-index.html'],\n",
       " '瘋狂世界 #MaydayBlue20th (World Crazy #MaydayBlue20th)': ['瘋狂世界 #MaydayBlue20th (World Crazy #MaydayBlue20th)',\n",
       "  'https://www.kkbox.com/tw/tc/song/9tT00TKPt1-gyroOgyroO0XL-index.html'],\n",
       " '小太陽': ['小太陽',\n",
       "  'https://www.kkbox.com/tw/tc/song/.yumVGR01031X3osp3osp0P4-index.html'],\n",
       " '純真 #MaydayBlue20th (INNOCENCE #MaydayBlue20th)': ['純真 #MaydayBlue20th (INNOCENCE #MaydayBlue20th)',\n",
       "  'https://www.kkbox.com/tw/tc/song/-7x00OlGdH4.ch.4.ch.40XL-index.html'],\n",
       " 'Do You Ever Shine? - BITTER BLOOD Version': ['Do You Ever Shine?',\n",
       "  'https://www.kkbox.com/tw/tc/song/-GbnF1GWI8K31pKq31pKq0PL-index.html'],\n",
       " 'I WILL CARRY YOU': ['I WILL CARRY YOU',\n",
       "  'https://www.kkbox.com/tw/tc/song/2Pp00GK2G0nOfcClOfcCl0XL-index.html'],\n",
       " '青春の彼方 / 盛夏光年': ['YOUR LEGEND ～燃ゆる命～',\n",
       "  'https://www.kkbox.com/tw/tc/song/PuFSn17.aH62qyZi2qyZi0PL-index.html'],\n",
       " '將軍令': ['YOUR LEGEND ～燃ゆる命～',\n",
       "  'https://www.kkbox.com/tw/tc/song/XRmQt18.aH62umgi2umgi0PL-index.html'],\n",
       " \"Dancin' Dancin' - feat.TERU（GLAY）\": [\"Dancin' Dancin'\",\n",
       "  'https://www.kkbox.com/tw/tc/song/1q3I12LD5X25fhmm5fhmm0PL-index.html'],\n",
       " '鯊魚搖滾': ['候鳥五月天電影音樂作品',\n",
       "  'https://www.kkbox.com/tw/tc/song/Wc8Vdbj00a4.83kTo3kTo0P4-index.html'],\n",
       " '羅蜜歐與茱麗葉': ['候鳥五月天電影音樂作品',\n",
       "  'https://www.kkbox.com/tw/tc/song/haDWFQTSk00yK.8NB-NB-0On-index.html'],\n",
       " '火花一般': ['候鳥五月天電影音樂作品',\n",
       "  'https://www.kkbox.com/tw/tc/song/3OQuhBjxw006K.8ja4ja40On-index.html'],\n",
       " '海豚的歌': ['候鳥五月天電影音樂作品',\n",
       "  'https://www.kkbox.com/tw/tc/song/g-4YUG200EK.81WR41WR40P4-index.html'],\n",
       " '旅途上': ['候鳥五月天電影音樂作品',\n",
       "  'https://www.kkbox.com/tw/tc/song/Q89SILJ00MK.82HG42HG40P4-index.html'],\n",
       " '企鵝午後': ['候鳥五月天電影音樂作品',\n",
       "  'https://www.kkbox.com/tw/tc/song/oWZZRgf00QK.82de-2de-0P4-index.html'],\n",
       " '公路電影': ['候鳥五月天電影音樂作品',\n",
       "  'https://www.kkbox.com/tw/tc/song/LGOGg4y00UK.8325432540P4-index.html'],\n",
       " '年華 - Ost Version': ['候鳥五月天電影音樂作品',\n",
       "  'https://www.kkbox.com/tw/tc/song/EFzTSeZ00YK.83QV-3QV-0P4-index.html'],\n",
       " '一個人的表情': ['候鳥五月天電影音樂作品',\n",
       "  'https://www.kkbox.com/tw/tc/song/dNIMpwG00aK.83mu43mu40P4-index.html'],\n",
       " '金賽的迷惑': ['候鳥五月天電影音樂作品',\n",
       "  'https://www.kkbox.com/tw/tc/song/22HGn41B900w5.81Sw1Sw0On-index.html'],\n",
       " '.....的愉快': ['候鳥五月天電影音樂作品',\n",
       "  'https://www.kkbox.com/tw/tc/song/dlgPDZp-p0045.8PrSPrS0On-index.html']}"
      ]
     },
     "execution_count": 47,
     "metadata": {},
     "output_type": "execute_result"
    }
   ],
   "source": [
    "total_song"
   ]
  },
  {
   "cell_type": "markdown",
   "id": "3bc678e3",
   "metadata": {},
   "source": [
    "## 爬取 每一首歌曲的 歌詞"
   ]
  },
  {
   "cell_type": "code",
   "execution_count": 48,
   "id": "b6a6986f",
   "metadata": {},
   "outputs": [
    {
     "data": {
      "text/plain": [
       "'https://www.kkbox.com/tw/tc/song/q8nTZ0r0rHm2DIMW2DIMW0PL-index.html'"
      ]
     },
     "execution_count": 48,
     "metadata": {},
     "output_type": "execute_result"
    }
   ],
   "source": [
    "total_song['倔強'][1]"
   ]
  },
  {
   "cell_type": "code",
   "execution_count": 49,
   "id": "b1a71153",
   "metadata": {
    "scrolled": true
   },
   "outputs": [
    {
     "name": "stdout",
     "output_type": "stream",
     "text": [
      "因為你 所以我 (Because Of You) | 如果我們不曾相遇 (What If We Had Never Met) | 成名在望 (Almost Famous) | 好好 (想把你寫成一首歌) (Song About You) | 兄弟 (Brotherhood) | 人生有限公司 (Life Co. Ltd.) | 後來的我們 (Here, After, Us) | 頑固 (Tough) | 派對動物 (Party Animal) | 最好的一天 (Best Day of My Life) | 少年他的奇幻漂流 (Life of Planet) | 終於結束的起點 (Beginning of the End) | 任意門 (Dokodemo Door) | 轉眼 (Final Chapter) | 擁抱 | 傷心的人別聽慢歌 (貫徹快樂) | 洋蔥 | 乾杯 | 入陣曲 | 倔強 | 突然好想你 | 戀愛ing | 離開地球表面 | 星空 | 我不願讓你一個人 | 人生海海 | 知足 | 你是唯一 - TVBS偶像劇<A咖的路>片頭曲 | 夜訪吸血鬼 | 如煙 | 盛夏光年 | 一顆蘋果 | 三個傻瓜 | 孫悟空 | 摩托車日記 | 最重要的小事 | 愛情萬歲 | 雌雄同體 | 生命有一種絕對 | 諾亞方舟 | 我心中尚未崩壞的地方  | 憨人 | 有些事現在不做 一輩子都不會做了 | 洗衣機 | 三個傻瓜  | 歪腰 | 倉頡 | 2012 | 第二人生 | OAOA - 現在就是永遠 | T1213121 | 生存以上 生活以下 | 你不是真正的快樂 | 爆肝 | 噢買尬 | 出頭天 | 我心中尚未崩壞的地方 | 春天的吶喊 | 後青春期的詩 | 笑忘歌 | 為什麼 - 今日的愛情 | 終結孤單 | 明白 | 心中無別人 | 有你的將來 | 叫我第一名 | 雨眠 | 羅密歐與茱麗葉 | 溫柔 | 反而 | 瘋狂世界 | 透露 | 生活 | 愛情的模樣 | 嘿我要走了 | 軋車 | 志明與春嬌 | Hosee | 黑白講 | I Love You無望 | 風若吹 | 能不能不要說 | 好不好 | 相信 | OK啦 | 借問眾神明 | 永遠的永遠 | 彩虹 | 啾啾啾 | 純真 | 候鳥 | 垃圾車 | 小護士 | 讓我照顧你 | 約翰藍儂 | 回來吧 | 錯錯錯 | 晚安 地球人 | 超人 | 神的孩子都在跳舞 | 聖誕夜驚魂 | 輕功 | 恆星的恆心 | 阿姆斯壯 | 而我知道 | 賭神 | 別惹我 | 九號球 | 武裝 | 時光機 | 我們(時時刻刻) | 在這一秒 | 王子麵 | 小時候 | 為愛而生 | 天使 | 我又初戀了 | 香水 | 快樂很偉大 | 忘詞 | 寵上天 | 米老鼠 | 一千個世紀 | 勇敢 (Braveness) | 溫柔 #MaydayBlue20th (TENDERNESS #MaydayBlue20th) | 玫瑰少年 (Womxnly) | 私奔到月球 | 牙關 | 亂世浮生 | 聽不到 | 金多蝦 | 麥來亂 | 凡人歌 (Song of Ordinary People) | 搖滾本事 | 我 | 闖 | 轉眼（2018 自傳最終章） (Final Chapter) | DNA | 放肆 | 瘋狂世界 #MaydayBlue20th (World Crazy #MaydayBlue20th) | 小太陽 | 純真 #MaydayBlue20th (INNOCENCE #MaydayBlue20th) | Do You Ever Shine? - BITTER BLOOD Version | I WILL CARRY YOU | 青春の彼方 / 盛夏光年 | 將軍令 | Dancin' Dancin' - feat.TERU（GLAY） | 羅蜜歐與茱麗葉 | 公路電影 | 年華 - Ost Version | 162 150\n"
     ]
    }
   ],
   "source": [
    "song_lyr = []\n",
    "wrong = []\n",
    "for t in total_song:\n",
    "    res = requests.get(total_song[t][1], headers=headers)\n",
    "    soup = Soup(res.text, 'html.parser')\n",
    "    try:\n",
    "        lyrics = soup.select('div.lyrics > p')[1].text\n",
    "    except:\n",
    "        wrong.append(t)\n",
    "        continue\n",
    "    song_lyr.append([total_song[t][0], t, lyrics])\n",
    "    print(t,end=' | ')\n",
    "print(len(total_song), len(song_lyr))"
   ]
  },
  {
   "cell_type": "code",
   "execution_count": 58,
   "id": "e259b925",
   "metadata": {},
   "outputs": [
    {
     "data": {
      "text/plain": [
       "150"
      ]
     },
     "execution_count": 58,
     "metadata": {},
     "output_type": "execute_result"
    }
   ],
   "source": [
    "len(song_lyr)"
   ]
  },
  {
   "cell_type": "code",
   "execution_count": 54,
   "id": "262e182e",
   "metadata": {},
   "outputs": [
    {
     "data": {
      "text/plain": [
       "['因為你 所以我 (Because Of You)',\n",
       " '因為你 所以我 (Because Of You)',\n",
       " '\\n人群 煙火  香檳和氣球\\n是你 帶我  從派對逃走\\n逃離 人間  耳語和騷動\\n這裏 只有  你我和星空\\n你是 何時  靜靜靠近我\\n你是 何時  偷偷拯救我\\n在我 掌心  放了  一顆糖果\\n\\n人類 為何  都愛看天空\\n背上 卻都  有一對傷口\\n生在 這個  凡人的星球\\n是否 不配  作天使的夢\\n你將 你的  翅膀給了我\\n帶我 穿越  狼群和鏡頭\\n讓我 能夠  品嘗  片刻自由\\n\\n因為你 所以我   愛上那  片天空\\n天空下 我在祈求   那是你  牽著我\\n最深刻 的故事   最永恆  的傳說\\n不過  是你  是我  能夠  平凡生活\\n\\n人生 只是  須臾的剎那\\n人間 只是  天地的夾縫\\n人們 何苦  要活成修羅\\n活在 執著  對錯的牢籠\\n是你 幫我  停下了沙漏\\n是你 教我  別害怕闖禍\\n是你 讓我  活得  與眾不同\\n\\n因為你 所以我   愛上那  片天空\\n天空下 我在祈求   那是你  牽著我\\n最深刻 的故事   最永恆  的傳說\\n不過  是你  是我  能夠  平凡生活\\n\\n因為你 所以我   所以我  不退縮\\n再不願 這一生中   有遺憾  不反駁\\n不再聽 別人說   不在乎  誰能懂\\n只因  世界 再大 不過  你和我\\n用最小回憶  堆成宇宙\\n\\n因為你 所以我   愛上那  片天空\\n天空下 我在祈求   那是你  牽著我\\n最深刻 的故事   最永恆  的傳說\\n不過  是你  是我  能夠  平凡生活\\n\\n因為你 所以我   所以我  不退縮\\n再不願 這一生中   有遺憾  不反駁\\n不再聽 別人說   不在乎  誰能懂\\n只因  世界 再大 不過  你和我\\n用最小回憶  堆成宇宙\\n']"
      ]
     },
     "execution_count": 54,
     "metadata": {},
     "output_type": "execute_result"
    }
   ],
   "source": [
    "song_lyr[0]"
   ]
  },
  {
   "cell_type": "code",
   "execution_count": null,
   "id": "5b4be845",
   "metadata": {},
   "outputs": [],
   "source": []
  },
  {
   "cell_type": "code",
   "execution_count": 55,
   "id": "c32dc586",
   "metadata": {},
   "outputs": [],
   "source": [
    "replace_list = ['前奏','間奏','作詞','作曲','編曲','演唱','五月天','陳綺貞','＞＞等一下吧！！＠＠”\\n３\\n２\\n１\\nＧＯ～～','張勝凱'\n",
    "               'ＥＮＤ','~ 結束 ~','♬','Solo','阿信','^開始囉@','曲:怪獸\\n詞:阿信','歌詞亂編‧虫']"
   ]
  },
  {
   "cell_type": "code",
   "execution_count": 56,
   "id": "6457a82e",
   "metadata": {},
   "outputs": [],
   "source": [
    "final = []\n",
    "for j in song_lyr:\n",
    "    for g in replace_list:\n",
    "        now = j[2].replace(g,'')\n",
    "\n",
    "    now = re.sub('\\W+',' ',now)\n",
    "    final.append([j[0], j[1], now])"
   ]
  },
  {
   "cell_type": "code",
   "execution_count": 57,
   "id": "e1c10af1",
   "metadata": {
    "scrolled": true
   },
   "outputs": [
    {
     "data": {
      "text/plain": [
       "150"
      ]
     },
     "execution_count": 57,
     "metadata": {},
     "output_type": "execute_result"
    }
   ],
   "source": [
    "len(final)"
   ]
  },
  {
   "cell_type": "code",
   "execution_count": 59,
   "id": "068d4f6f",
   "metadata": {},
   "outputs": [],
   "source": [
    "import pandas as pd\n",
    "df = pd.DataFrame(final, columns = ['專輯','歌曲','歌詞'])"
   ]
  },
  {
   "cell_type": "code",
   "execution_count": 60,
   "id": "9706e633",
   "metadata": {},
   "outputs": [],
   "source": [
    "df.to_csv('五月天歌詞.csv', encoding='utf-8')"
   ]
  },
  {
   "cell_type": "markdown",
   "id": "9c7ef190-14e2-471d-88dd-4c8c326ea371",
   "metadata": {},
   "source": [
    "---"
   ]
  },
  {
   "cell_type": "markdown",
   "id": "f1616f31-5af6-40e7-b440-719a3d83488d",
   "metadata": {},
   "source": [
    "## 開啟 python version < 3.7 環境"
   ]
  },
  {
   "cell_type": "code",
   "execution_count": 1,
   "id": "fb8d4872",
   "metadata": {},
   "outputs": [],
   "source": [
    "import pandas as pd\n",
    "dddf = pd.read_csv('五月天歌詞.csv', index_col=0)"
   ]
  },
  {
   "cell_type": "code",
   "execution_count": 2,
   "id": "4eded8fc",
   "metadata": {},
   "outputs": [
    {
     "name": "stdout",
     "output_type": "stream",
     "text": [
      "150\n"
     ]
    }
   ],
   "source": [
    "import re\n",
    "album_list = list(dddf.專輯)\n",
    "song_list = list(dddf.歌曲)\n",
    "lyrics_list = list(dddf.歌詞)\n",
    "final = []\n",
    "for j in range(len(album_list)):\n",
    "    album_re = re.sub('\\W+','_',album_list[j])\n",
    "    song_re = re.sub('\\W+','_',song_list[j])\n",
    "    final.append([album_re, song_re, lyrics_list[j]])\n",
    "print(len(final))"
   ]
  },
  {
   "cell_type": "markdown",
   "id": "250218a6",
   "metadata": {},
   "source": [
    "---"
   ]
  },
  {
   "cell_type": "code",
   "execution_count": 3,
   "id": "ab7d55c3",
   "metadata": {
    "collapsed": true,
    "jupyter": {
     "outputs_hidden": true
    },
    "tags": []
   },
   "outputs": [
    {
     "name": "stderr",
     "output_type": "stream",
     "text": [
      "Building prefix dict from C:\\Users\\Tibame_25\\Desktop\\dict.txt ...\n",
      "Loading model from cache C:\\Users\\TIBAME~1\\AppData\\Local\\Temp\\jieba.u5fa79430814e128e0e86c1a6288de894.cache\n",
      "Loading model cost 0.484 seconds.\n",
      "Prefix dict has been built successfully.\n"
     ]
    },
    {
     "name": "stdout",
     "output_type": "stream",
     "text": [
      "因為你_所以我_Because_Of_You_ 因為,不過,天空,能夠,愛上,牽著,永恆,傳說,所以,祈求,平凡,人間,何時,退縮,不願,這一,遺憾,反駁,別人,回憶,深刻,堆成,再大,故事,在乎,宇宙,生活,沙漏,煙火,香檳\n",
      "如果我們不曾相遇_What_If_We_Had_Never_Met_ 我們,不曾,哪裡,相識,那一天,那個,場景,出現,相遇,每秒,那一刻,我會,這首,充滿,詩句,如果,生命,歌曲,人生,故事,每一秒,活著,問著,找尋,懷疑,從此,定義,甦醒,人間,運行\n",
      "成名在望_Almost_Famous_ 盡頭,在望,怎麼樣,終點,可有光,我們,成名,那夜,起點,可會亮,綻放,回頭,一雙,風光,那路,怎樣,少年,一站,信仰,乾涸,重量,一遍,徬徨,一個,開始,遺忘,時光,成長,初學,模樣\n",
      "好好_想把你寫成一首歌_Song_About_You_ 我們,忘了,好好,不過,沒有,變老,時間,喧囂,最後,知道,大人,寫成,想養,每個,場景,撥慢,轉角,瘋掉,雙胞,再長,煙火,你我,凝視,風景,切好好,背著,書包,名為,監牢,長大\n",
      "兄弟_Brotherhood_ 一個,兄弟,我們,這樣,怎樣,一點,一次,身旁,人生,一場,變成,別來無恙,當其,抬頭,永遠,時光,走光,一句,一天,一年,慢慢,一直,一定,失望,他人,彼此,節奏,搖搖晃晃,泥濘,爛仗\n",
      "人生有限公司_Life_Co_Ltd_ 過嗎,人生,部門,沒有,有限,富貴榮華,目標,飛黃騰達,一天能,請假,無限,傻瓜,追逐,公司,最佳化,打卡,哭聲,產房,裡的,眾人,你還,記得,當時,一絲不掛,會議,資料夾,第一個,爸媽,聽話,第二個\n",
      "後來的我們_Here_After_Us_ 後來,我們,人生,快樂,無論,怎麼,淚水,一個,期待,中能,然後,回憶,也許,走著,並肩,追尋,親愛的,最想,故事,真的,依然,精彩,看到,幸福,各自,他們,痊癒,開始,有個,守護\n",
      "頑固_Tough_ 頑固,一次,深處,活在,淚滴,拼回,一天,吞下,相信,自己,破碎,當時,每個,忘記,學會,謝謝,是否,我身,未來,這個,狂熱,衝動,冷卻,鏡子,時光,痕跡,每顆,際遇,問著,這些\n",
      "派對動物_Party_Animal_ oh,party,派對,動物,Hey,Let,go,night,lonely,我們,many,瘋狂,goodbye,覺悟,good,times,日出,這不,讓步,不願,被當,寵物,寧願,變成,忘了,天生,跳舞,怪物,人生,嚴肅\n",
      "最好的一天_Best_Day_of_My_Life_ 最好,那一天,day,閉上,瞬間,銀河,好了,best,那天,地球,無數,裡面,選出,再問,或許,什麼,改變,後來,你轉,貧瘠,種一棵,囚房,聽見,音樂,開起,演唱會,相親,對象,組成,球隊\n",
      "少年他的奇幻漂流_Life_of_Planet_ 我們,人們,無數,未來,如海,怎樣,命運,流轉,相異,羅盤,你我,現在,航向,汪洋,小孩,打造,黑暗,旗竿,醒來,忘了,燦爛,誕生,這艘,一葉,耳語,風雨,搖晃,切開,山巒,雲彩\n",
      "終於結束的起點_Beginning_of_the_End_ 終於,我們,告別,也許,起點,不見,愛情,回憶,結束,寫下,句點,原點,流乾,眼淚,未來,其實,好久,日日夜夜,記不記得,簡單,在一起,曾經,當時,變成,嘆息,傷痛,相愛,因為,遺憾,風景\n",
      "任意門_Dokodemo_Door_ 我們,任意門,那個,走過,無數,無盡,歲月,搭著,環遊,無法,遺忘,光輝,台北,行天宮,二樓,房間,唱片行,搖滾,萬歲,離開,遙遠,身邊,前座,世界,唱片,平凡,地方,尖沙咀,排練,聽著\n",
      "轉眼_Final_Chapter_ 有沒有,回憶,自傳,最終,最愛,愛情,遺忘,原來,飛翔,身旁,幻象,地方,沙堡,生命,轉眼,瀏覽,命運,風光,混濁,風乾,花漾,一張,千萬個,那一年,一樣,飛揚,還是,放開,雙掌,曾握\n",
      "擁抱 抱緊,哪一個,將我,緊握,太遠,聆聽,晚風,池邊,看見,曬乾,眼淚,醉倒,明天,太近,荷花,黑夜,默默,月光,自己,就算,脫下,夢幻,馬車,換上,童話,玻璃鞋,感覺,薔薇,品嚐,紛亂\n",
      "傷心的人別聽慢歌_貫徹快樂_ 快樂,OH,不管,慢歌,反正,感覺,活著,趴著,音樂,傷心,不等,心跳,不要,快要,再問,誰是誰非,虧欠,不想,很慢,自己,分分合合,你傷,愛的,要來,聽得,應該,換一種,節奏,愛情,還是\n",
      "洋蔥 一層,願意,剝開,聽到,鼻酸,流淚,全心全意,發現,訝異,壓抑,深處,如果,空氣,洋蔥,永遠,沉默,只要,看到,秘密,偷偷,能夠,降臨,聲音,守護,奇蹟,著聊,開心,裡的,得多,盤底\n",
      "乾杯 會不會,時間,歲月,回憶,懷念,一天,也許,終點,舉起,真的,一杯,回不去,那個,悠悠,倒退,退回,世界,阿信,于京延,弦樂,李琪,眼淚,未來,為什麼,身邊,永遠,流淚,他們,回來,來到\n",
      "入陣曲 入陣,滾燙,天未亮,倖存,沙場,臉龐,淚未,心未涼,什麼,無悔,未央,此生,奔向,狂妄,盼望,思念,當一份,遺忘,我們,依然,魑魅,當一座,城牆,為了,阻擋,戰亂,饑荒,手能,隱藏,人們\n",
      "倔強 倔強,這一,瘋狂,絕望,大聲,最後,握緊,雙手,絕對,下一站,驕傲,風中,次為,失望,就算,天堂,自己,不放,一樣,原諒,不能,堅持,剛克剛,妥協,說謊,別人,願望,我活,愛我,人別\n",
      "突然好想你 突然,那麼,回憶,聽到,我們,阿信,空氣,安靜,關心,翻滾,絞痛,悲傷,哪裡,過的,快樂,鋒利,自已,平息,委屈,消息,模糊,作詞,聲音,不願,事到,終於,屬於,眼淚,還騙,不過\n",
      "戀愛ing ING,戀愛,改變,黃昏,LOVE,Happy,噴射機,黎明,坐上,心情,心跳,沒關係,整個,空氣,一台,不行,扁平足,爆肝,逛成,感謝,ORZ,認識,好聞,勝過,陽光,照進,載舟,維他命,未來,某年\n",
      "離開地球表面 煩惱,噗通,甩掉,跳越,丟掉,jump,地球,一顆,一瞬間,忘掉,一秒,不要,只要,手錶,嘮叨,電視,電腦,大腦,衝啥,得多,愛得少,come,委屈,外套,背包,只想,啥小,唱反調,膽子,還要\n",
      "星空 La,星空,一個,我們,望著,回憶,擁抱,那一年,不變,陪著,Da,是否,顏色,微風,然後,那麼多,燦爛,未來,美夢,細數,從前,偷走,彩虹,失去,留下,寂寞,永久,看不到,沉默,伸手\n",
      "我不願讓你一個人 不願,一個,還是,會問,習慣,獨自,走過,風雨,時分,殘忍,眼淚,永恆,最後,飛奔,人海,浮沉,旅程,只求,明知,承受,幸福,空氣,出聲,癒合,固執,傷痕,靈魂,多洗,準備,一層\n",
      "人生海海 決定,快樂,傷心,之後,有潮,有什麼,潮落,整個,拋棄,了不起,東西,沒有,放棄,至少,就算,所以,一定,知道,自己,世界,常常,什麼,還是,會不會,漫無目的,證明,別人,走過,痕跡,從不\n",
      "知足 怎麼,擁有,快樂,足夠,一陣,風吹,風箏,飛上,為了,祈禱,感動,終於,盡頭,發現,最痛,人海,祝福,愛上,會不會,其實,那樣,身影,天空,知足,消失,心痛,放手,忍受,如果,收藏\n",
      "你是唯一_TVBS偶像劇_A咖的路_片頭曲 變成,愛是,笑意,每一刻,嚮往,專機,前進,絕不,定義,日記,是筆,塗鴉,回憶,填滿,感動,心裡,翻閱,美麗,直達,天際,飛行,雲朵,遊戲,棉花糖,我願,旋轉,繽紛,溫暖,呼喚,閃耀\n",
      "夜訪吸血鬼 日日夜夜,無盡,無法,找尋,能夠,然後,滿懷,憂傷,卻流,出淚,極度,疲憊,永遠,人間,我們,揮舞,純潔,擁有,果決,每個,人類,貪嗔癡,體溫,同類,深陷,入睡,愚昧,魔鬼,天使,不能\n",
      "如煙 永遠,有沒有,那麼,聽見,那一年,以為,擁抱,歲月,床前,雙眼,曾經,最後,後悔,一個,人間,一張,我們,化成,漆黑,抓住,故事,前望,回憶,滿天,華麗,錯覺,時間,七歲,隻蟬,十七歲\n",
      "盛夏光年 轉彎,未來,現在,放棄,規則,放縱,放空,光年,盛夏,放肆,貪玩,殘酷,狂放,驕傲,破壞,最愛,簡單,混亂,這樣,喜歡,一萬首,mp3,一萬次,瘋狂,滅不,一個,孤單,一場,狂歡,來到\n",
      "一顆蘋果 遙遠,還是,經過,夢想,時間,人世間,總要,這樣,以後,活著,地久,漫長,一個,忘記,時候,不經意,放過,曾經,擁抱,盛開,純真,風吹,一轉眼,為什麼,這會,給我,這是,告訴,終究,人來\n",
      "三個傻瓜 傻瓜,一轉眼,老花,一樣,白髮,一轉,歲月,看著,長大,時間,追殺,場景,變化,這麼,別怕,終於,最後,什麼,悲傷,文法,不清,小小,半片,個子,張開,第一個,心願,著想,上學,媽媽\n",
      "孫悟空 記得,好朋友,我活,從不,愛錯,沒愛過,再一次,光榮,重返,如果,一天,卡片,西天,希望,掏掏,夥伴,累不累,兵荒馬亂,改變,滿天,人類,還在,你爭,取經,回來,有沒有,人有,讀過,師父,問候\n",
      "摩托車日記 一個,願意,傳說,還夢不夢,瘋不瘋,有沒有,當初,溫柔,消滅,我們,作夢,一起,浪漫,自由,就算,左輪,瞄準,無情,天空,英雄,等待,橫越,一萬,兩千里,貧窮,騎著,衝動,無垠,種不出,那無數\n",
      "最重要的小事 分秒,紛紛擾擾,喧鬧,什麼,真實,活過,一輩子,年年,守護,庸庸碌碌,傻傻,全心,跌跌撞撞,匆匆忙忙,日日,果汁,最小,就算,笑笑,一杯,這一刻,屬於,世界,走過,動盪,追過,穿過,假裝,若無其事,過半\n",
      "愛情萬歲 天明,穿過,然後,內衣,直到,外衣,靈魂,深處,降臨,盡情,嬉戲,刺探,黎明,不能,雖然,相戀,傾國傾城,傾倒,心裡,越來越,冷越,堅固,熱情,變冷,真理,深深,此刻,不曾,秘密,等待\n",
      "雌雄同體 Da,La,我要,猜測,應該,愛我,問題,自己,PM,七點,鏡子,屬於,美麗,輕輕,畫上,雙唇,喃喃自語,De,最後,還是,愛上,飄移,調整,一個,遊戲,也許,發現,原來,同體,眼影\n",
      "生命有一種絕對 絕對,等待,始終,沒有,改變,無聲,蒸發,光線,一種,約定,笑顏,生命,融化,直到,征服,想要,黑暗,期待,回憶,擁抱,地上,世界,靠近,不要,走過,這一,還有,多少苦,風中,歌聲\n",
      "諾亞方舟 告別,再見,諾亞方舟,晚安,航向,回憶,我們,最後,終於,變成,雨點,人類,還是,什麼,沒有,一種,勇敢,幻想,花豹,甜甜圈,電影院,埋進,初識,那個,公園,遺忘,鞦韆,那麼多,名錶,帶走\n",
      "我心中尚未崩壞的地方_ 變成,交響,每個,孤單,一個,會有,沒人,還有,崩壞,我心,旋律,默默,合唱,我們,市場,戰場,無論,至少,天亮,心中,就算,彩虹,尚未,地方,一天,追逐,孩子,沸沸,理想,鏡頭\n",
      "憨人 夢中,那個,甘講,伊是,一場,走過,你我,講過,總有一天,總會,希望,心肝,不願,甘願,來作,憨人,頭腦,米蟲,要安,歡喜,春夏秋冬,空空,一天,世人,奸巧,沈重,世界,只有,心內,感覺\n",
      "有些事現在不做_一輩子都不會做了 每個,裡面,有鐘,皺紋,以後,最痛,什麼,衝動,自我,理由,平凡,想像,幻想,不同,年輪,暫停,秒鐘,後悔,問你,一種,說明,孫子,孫女,充滿,開口,光輝,傳說,小說,雋永,從前\n",
      "洗衣機 洗衣機,旋轉,發現,沒有,時間,過去,孤獨,一眨眼,陽台,風吹,木訥,從來,丟多少,總是,顫抖,身體,上了年紀,盡力,以來,媽媽,無法,全心,少年,外型,雨淋,怨言,勇敢,全力,一直,就算\n",
      "三個傻瓜_ 傻瓜,一轉眼,老花,一樣,白髮,一轉,歲月,看著,長大,時間,追殺,場景,變化,這麼,別怕,終於,最後,什麼,悲傷,文法,不清,小小,半片,個子,張開,第一個,心願,著想,上學,媽媽\n",
      "歪腰 歪腰,不會,壞掉,命運,偶爾,頂多,求饒,好好笑,鬼吼,鬼叫,絕對,就算,搞笑,人生,哄堂,需要,音效,躁躁,亂糟糟,大腦,剛好,煩惱,來到,一樣,出現,慘變,整個,眼淚,交織,光榮\n",
      "倉頡 描寫,飛天,變成,倉頡,造字,遙遠,糾結,無法,瘋癲,不見,寫出,想念,穿越,回來,詩篇,疼痛,需要,千言,一顆,用盡,圖騰,語言,一個,瞬間,結一個,紀念,繩結,記錄,離去,萬語\n",
      "2012 沒有,我們,過後,解脫,珍重,解答,這麼,倖存,預言,怎麼,宇宙,明天,末日,真是,今天,平行,時間,延後,後路,逃脫,備案,線索,藍色,時候,總等,長大,活著,西元,盡頭,去作\n",
      "第二人生 沒有,開始,期待,旅程,發生,萬分,荒廢,用盡,體溫,一種,永恆,傷痕,每個,人生,精采,青春,悔恨,還在,一個,命運,下一站,奮不顧身,一趟,等到,咖啡粉,名字,生命,聽到,鬧鐘聲,推開\n",
      "OAOA_現在就是永遠 OA,相信,永遠,短暫,不信,音樂,人生,瞬間,年年,搖滾,萬歲,張開,別想,別怕,後退,現在,那一年,轉眼,這一天,浪費,OAOA,苦澀,眼淚,愛情,純粹,華麗,詩篇,熱烈,爭辯,無聲\n",
      "T1213121 吉他,121,3121,學長,開始,時間,他們,回來,懷念,來到,說過,馬子,要會彈,又帥,才華,不難,這樣,從小,學會,回憶,悲傷,快樂,時刻,想彈,廢話,少說,現在,馬上,提議,尚翊二一\n",
      "生存以上_生活以下 現在,變成,看日,月圓,年復一年,經過,終於,活著,吃飯,潮落,患得患失,潮起,一天,日落,生命,還是,生存,喝水,疼痛,呼吸,照著,節奏,沒有,擁有,感覺,生活,刷牙,追逐,天空,馬桶\n",
      "你不是真正的快樂 決定,快樂,保護色,不愛了,靈魂,關在,永遠,鎖上,軀殼,真正,不恨,已經,於是,的傷,從不,癒合,左側,銀河,難道,抱著,遺憾,只是,變成,顏色,不會,或痛,心動,靜靜,忍著,緊緊\n",
      "爆肝 爆肝,我怕,好爽,夜店,夜唱,狂熱,狂歡,悶不怕,打怪,貪吃,貪心,貪玩,煩不怕,聽歌,寫歌,傷心,傷肺,傷肝,最後,一團,好樣,好膽,狂舞,哭成,打牌,只是,不想養,溺愛,學壞,勇敢\n",
      "噢買尬 買尬,電話,隨時,不見,這是,流淚,太久,唱到,喝到,鐵塔,回憶,真的,剩下,一定,眼淚,海灘,整個,說話,計畫,沒有,變化,我們,神話,夢話,廢話,這樣,陪著,長大,東京,蛋塔\n",
      "出頭天 出頭天,身邊,一日,永遠,風浪,沒志氣,會真快,來到,天頂,盼望,等待,日子,可以,只怕,人生,自己,甘有,甘願,每一朵,一生,人會,看見,這樣,改變,固執,怎樣,頭殼,血乾會,結痂,失敗\n",
      "我心中尚未崩壞的地方 變成,交響,每個,孤單,一個,會有,沒人,還有,崩壞,我心,旋律,默默,合唱,我們,市場,戰場,無論,至少,天亮,心中,就算,彩虹,尚未,地方,一天,追逐,孩子,沸沸,理想,鏡頭\n",
      "春天的吶喊 吶喊,爽要,幾次,宣戰,看到,沙灘,未來,壓力,憂鬱,遺憾,一生,流汗,不爽,更要,不要,陽光,吉普賽,沒人能,擋住,方向盤,轉彎,再當,來不及,大海,推翻,拜拜,用力,平凡,世界,冷淡\n",
      "後青春期的詩 未來,我們,燦爛,一天,阿信,枕畔,荏苒,煙霧,飄散,風乾,退化成,告別,淚痕,遺憾,回憶,誇飾,傷感,時光,終於,為了,狂歡,愛情,狂亂,口白,然後,自傳,無論,多遠,讀來,解釋\n",
      "笑忘歌 快樂,這首,忘歌,這樣,我們,偉大,這一,志願,不會,傷心,忘記,記得,那一年,高風,從頭,腳趾,好了,平凡,天空,清澈,OH,有多少,只要,青春,屋頂,放學,夕陽,讓步,屬於,傷都\n",
      "為什麼_今日的愛情 為什麼,愛情,一聲,愛你,代誌,真正,今日,寒天,又擱,傷心,著手,熱天,凍未到,風吹,惦在,這個,應該,歡喜,那會,甘願,放未記,聽人,講框,包銀,這件,親像,泡麵,變甲,這呢,春嬌\n",
      "終結孤單 will,La,Everything,alright,Tomorrow,fine,孤單,心情,怎麼,開始,怎麼辦,分擔,太陽,燦爛,Hey,繼續,High,不爽,陪伴,地球,依然,編曲,不來,high,開開心心,出來,埋頭,吃飯,習慣,起來\n",
      "明白 反覆,這裡,明白,希望,不願,一個,塌下來,矛盾,等待,相見,發現,還有,留戀,愛上,出現,拋棄,最後,情緣,縱然,遼闊,給你,那麼多,那麼,還是,精采,就算,不停,外面,丟棄,我還\n",
      "心中無別人 阮一個,你講,想要,真正,你給,未記,苦澀,別人,人生,甘擱,有別,走過,風雨,思念,甘願,心中,會記,牽手,彼暗,公車,擱過,你我,心願,講也,講不完,開始,無聊,已經,覺悟,結束\n",
      "有你的將來 我愛甲,真愛,心像,聽不到,無奈,走不到,你我,當初,約束,將來,真意,瞭解,真情,出力,想不到,真心,大海,為什麼,甘未歹,所在,心肝,你講,簡單,離開,逗陣,這天,愛情,傷害,試看,擾亂\n",
      "叫我第一名 吃飽,這多,七桃,有什麼,代誌,計較,輸贏,愛玩,會贏,誰人,你問,第一名,這款,衝啥,甲意,寒天,一定,吃宵夜,丟進,垃圾車,電影,擱去,晚時,倒垃圾,早時,堵車,寒熱,天太熱,那會,這陡\n",
      "雨眠 親愛的,未記,天頂,永遠,暗眠,海底,不停,甘放,彼個,雨聲,親像,溫柔,代誌,已經,命運,你我,逗作陣,享受到,愛人,再將,分開,講過,哪會,仔日,攏總,無地,無知,愛情,什麼,空虛\n",
      "羅密歐與茱麗葉 一場,我們,雙眼,沒有,yeah,一種,狂熱,華麗,快樂,睜開,東西,生病,開始,一個,漩渦,真實,有什麼,閉上,看不到,躲避,一首,世界,翻覆,轟轟烈烈,劇情,朱門,兩人,總是,樓下,於是\n",
      "溫柔 沒有,溫柔,這是,孤單,明瞭,為什麼,想要,愛情,綺麗,總是,愛給,不知不覺,不情不願,因為,預兆,說過,自由,巷子,黎明,知道,明明,靠近,眼中,理由,風中,陽光,然後,發現,改變,怎麼\n",
      "反而 反而,看穿,假裝,帶走,屬於,溫柔,是否,籠裡,野獸,自由,冷漠,太多,寂寞,害怕,喧嘩,擁擠,想作,磋跎,執著,錯過,墜落,溫暖,朦朧,洶湧,反想,惶恐,忍耐,脆弱,折磨,沉默\n",
      "瘋狂世界 那麼多,這個,想飛,逃離,瘋狂,想好,發現,別將,世界,淚水,莫名,挽回,後悔,多麼,傷悲,如果,用力,如果說,回憶,活著,狼狽,為什麼,總要,不起,一種,感覺,晚風,裡面,轉眼,指間\n",
      "透露 深處,這是,陣容,狂飆,愛意,變得,oh,透露,我心,沈默,完美,全天,此刻,不再,突然,完全,不知不覺,不經意,佔有,心裡,愛你,無處,即將,擺脫,夢不到,惡夢,擾攘,雙頰,一個,王國\n",
      "生活 每個,活在,眼淚,改變,時間,Everyday,瘋狂,考驗,來到,不知不覺,遠離,沒有,再見,終於,美好,重重,game,喜怒哀樂,苦辣,滋味,酸甜,明天,生活,昨天,不清,了解,今天,那些,世界,眼前\n",
      "愛情的模樣 一樣,愛情,身體,裡面,ya,oh,模樣,曾經,形狀,遠方,狂戀,挑戰,有愛與,愛的,感覺,我愛誰,無所謂,沒有,能將,劃界,迷樣,強烈,間奏,Ya,魔力,勇敢,全世界,海洋,徬徨,失去\n",
      "嘿我要走了 結束,不斷,我要,對白,見過,此刻,最美,一幕,輕輕,閉上,覺得,已經,絢爛,世紀,已不受,歡迎,找尋,然後,字句,挽留,昨天,深情,清醒,只是,重要,愛的,那麼,一場,鬧劇,你我\n",
      "軋車 軋車,La,oO,作陣來,按怎,催落,無人,當甲,這我,不管,引擎,攏無,這時,陣上,作陣,來去,最快,警察,父母,前奏,只要,阿花,最大,阿嬌,佳意,撇車,技術,無人甲,學校,老師\n",
      "志明與春嬌 已經,感覺,麥閣,無人,啊啊,這凍止,免愛我,傷心,愛你,沒愛我,最好,兩個,愛情,走到,志明,春嬌,淡水,海岸,真正,為什麼,愛人,不願閣,相偎,講這多,其實,攏總,攏無,有影,這大,哪無要\n",
      "Hosee HoSee,呼伊死,誰人,倒下去,卡大支,變甲,不爽,今眠,一點,哪會,按呢,緊緊,若是,槍子,無聲,鑽來鑽去,空氣,半眠,巷仔,在播,想來想去,舒適,風吹草動,耙仔,顛三倒四,過甲,親像,戰爭,一聲,變臉\n",
      "黑白講 一遍,想要,真真正正,那會,攏無,聲音,戰爭,有什麼,絕招,好兄弟,打攏,有風,流血,轉過,仔路,無意義,走衝,萬事,無聊,人要,起狂,囉唆,你給,一條,愛拼才,會贏,我攏,不著,青春,渴望\n",
      "I_Love_You無望 無望,love,這款,沒法度,每一天,甘是,作陣,將阮放,身邊,沒半項,思念,陪伴,逐天,眠夢,夢中,可愛,伊不是,別人,一分鐘,不當,輕鬆,阮愛的,將阮來,戲弄,那會,寒到,決定,形影,心肝,只有\n",
      "風若吹 飛到,無法,命運,哪轉,風若,我會,不知,控制,一定,奇怪,這個,社會,甘無一款,體會,甘講,讀冊,已經,無力,相爭,這些,聽過,度照,親戚,厝邊,頭尾,生雞蛋,無放,雞屎,甘著,按呢\n",
      "能不能不要說 能不能,愛我,什麼,不要,記得,時候,有沒有,問我,為什麼,應該,第一次,一個,十八歲,發射,轟隆隆,給我,其實,然後,囉唆,永遠,現在,想要,太多,想得,青春,啤酒,火箭,一口,夜裡,夢到\n",
      "好不好 煩惱,無情,誰人,整眠,阻礙,雙手,要給,快樂,溫暖,充滿,孤單,心臟,繼續,親愛,希望,想要,一生,唯一,或是,等待,開始,甘會,西北雨,知影,艱苦,照顧,心內,甘有,阮講,甘講\n",
      "相信 La,相信,永遠,看著,為什麼,愛情,勾勾,哭泣,一個,這一刻,約定,美麗,因為,開始,2001,我們,幸福,手印,容易,眼睛,不敢,你給,觸摸到,夜裡,聆聽,夢裡,孤單,已經,離去,天和地\n",
      "OK啦 OK,喔喔,失敗,誰人,衰尾,快活,想不開,放輕鬆,不算,哪有,心情,這麼,看面,越想,越來越,車拼,國有,改運,厲害,頭痛,擱來,別人,憨大呆,蝦米,輸贏,孤單,頭殼,歹去,想開,整天\n",
      "借問眾神明 LA,借問,神明,命運,咱來,甘有,喂眾,甘攏,決定,人生,保佑,成功,立委,心情,海海,歹歹,時機,顛倒,無閒,風浪,頭頂,開始,變天,萬大,富貴,議員,吃百面,天邊,雲一朵,逐天\n",
      "永遠的永遠 按怎,永遠,彼個,不管,阮愛的,愛過,我攏,眠夢,天涯海角,不甘,胸膛,一句,只要,一切,昨眠,小漢,什麼,時陣,這大長,為什麼,心內,感覺,鼻頭,酸澀,已經,的紅,一聲,變作,反白,頭鬃\n",
      "彩虹 愛就,一層,彩虹,絢爛,張開,藍綠,黃紅,迷惑,抱住,天空,有沒有,間奏,下雨,故事,浴缸,蓮蓬頭,其實,眼淚,愛過,虛弱,窗簾,房裡,喚醒,這時,開始,一點,離開,出太陽,承認,迷宮\n",
      "啾啾啾 啾啾,喔喔,耶耶耶,裡面,煩惱,憂愁,想要,跳舞,頭殼,裝書,攏無,裝著,靈魂,眼淚,晃頭,應該,這個,時陣,那會,感覺,檢查,目珠,甘看,什麼色,鬱卒,快樂,單純,間奏,放輕鬆,心肝\n",
      "純真 無聲,怎麼,感覺,整個,震動,裡我,聽到,閃爍,怎麼說,拉起,心跳,星星,黑夜,總是,節奏,耳朵,之中,世界,地球,長長,我們,開口,繞著,太陽,以為,寧靜,一顆,劃過,有座,濃霧\n",
      "候鳥 飛過,人海,吹散,最後,溫暖,茫茫,那片,下個,轉彎,長大,結果,太難,從不,現在,尋找,一絲,直走,老得,故事,太慢,太快,太久,路口,裡的,間奏,哪裡,想要,期待,明天,所以\n",
      "垃圾車 孤單,垃圾車,靠山,陪伴,歡喜,心聲,每天,唱歌,不爽,開始,雖然,脾氣,對待,凸槌,牽拖,計較,壞人,坐車,吃飯,欺負,為了,爽到,艱苦,因為,緣分,愛情,有影,傷肝,親像,熱天\n",
      "小護士 護士,醫生,我們,離開,受點傷,預防,健康,好像,矛盾,身旁,剛走,剛剛,把門,關上,整個,party,一樣,走進來,治療,自從,愛喝,太軟,堅強,我講,沒事,就常來,已經,隊伍,頭髮,色狼\n",
      "讓我照顧你 照顧,愛你,變得,戰鬥,我要,出太陽,風雨,刀槍,未來,想像,永不,間奏,超越,投降,肩上,阿信,怪獸,預備,心傷,眼淚,心臟,太陽,紅著,眼框,模樣,悲傷,更長,過傷,遺忘,笑話\n",
      "約翰藍儂 能不能,暫時,勇氣,給我,夢想,時候,人們,穿過,一秒,消失,最美,愛的,間奏,總有一天,披頭,最後,作過,用力,天空,英雄,出糗,子彈,它給,軀殼,就活,看著,還是,搖頭,整個,曾經\n",
      "回來吧 回來,我們,難道,深愛,懷念,說過,童話,一直,永遠,這裡,回憶,掙扎,未來,這麼,幸福,只要,就是,期待,煙花,滿天,捨不得,相愛,揮霍,越美,眼淚,時間,總有一天,忘記,為什麼,鑽進\n",
      "錯錯錯 錯錯,最後,改變,從什麼,時候,這樣,劇終,告訴,這是,為何,我們,接受,大雄,為什麼,同時,那麼,殘酷,溫柔,當你,結果,一時之間,應該,說些,什麼,笑過,哭過,沒想過,風雨,走過,現在\n",
      "晚安_地球人 地球人,晚安,逃難,人類,災難,重來,不要,乾旱,皮膚,腦袋,不綠,已經,毀滅,還帥,那一年,愛恨,忘了,來到,這裡,的蟬,換取,燦爛,穿過,漫長,名為,諸葛亮,萬人,一塚,豪邁,之後\n",
      "超人 為什麼,能夠,那麼,束手無策,愛情,拯救,地球,殘酷,攻擊,這一,飛天,沒辦法,長驅直入,結局,超人,容易,超能力,給我,一個,電話亭,內褲,開心,展開,披風,飛行,賜予,無助,阻擋,離開,間奏\n",
      "神的孩子都在跳舞 節奏,跳舞,享受,慢慢,孩子\n",
      "聖誕夜驚魂 驚魂,發生,怎麼,原來,聖誕老人,悶悶,突然,間奏,世上,故事,真的,勇敢,聖誕夜,氣氛,變得,有點,說起,製造,變成,耍冷,我長,誠懇,傻到,說完,再見,腳跟,過得,七個悶,一週七天,愛情\n",
      "輕功 想要,擁抱,找到,飛簷走壁,上天,哪裡,愛恨,腳底,地心,引力,常常,一步,不能,愛情,這一,混亂,平靜,心不由己,黏膩,雙鞋,手機,回應,雖然,始於,真實,離開,長出,後勁,間奏,蚱蜢\n",
      "恆星的恆心 帶走,迴盪,回憶,丟在,想著,離開,眼淚,下定決心,決定,恆星,恆心,流星,流浪,黑夜,黎明,因為,不會,眼睛,呼吸,銀河系,意義,落淚,安靜,傾聽,無法,領悟,為何,放棄,那一年,花季\n",
      "阿姆斯壯 喔喔,阿姆斯壯,離開,無聊,請給,活著,藉口,忍受,不要,登陸,感動,終於,愛我,地球,我心,降落,月球,心上,等候,那個,傢伙,說過,這一步,雖小,街舞,調酒,這些,學過,還練,加強\n",
      "而我知道 知道,這麼,還是,難熬,我們,這樣,這一,曾天,放開,怎麼,以後,一秒,忘掉,一分,真愛,不一定,白頭到老,全都,走掉,真的,受不了,一起,冰塊,尷尬,樓下,愛情,應該,長大,聽懂,緊緊\n",
      "賭神 爛泥,傳奇,一張,好勝,放不低,冷靜,沉住氣,幸運,無法,回不去,自尊,手心,一個,決定,不過,一條命,底牌,明天,昨天,一身,一生,賭神,獅子山,下一間,發現,一筆,天文數字,斑駁,領域,郵輪\n",
      "別惹我 告訴,不要,少次,自由,今天,我忍,放縱,墮落,囉嗦,真多,插手,靠近,機車,電話,藉口,好爛,沒錢,熄火,不通,成就,朋友,生活,但是,自己\n",
      "九號球 也許,這一,忘了,沒辦法,進球,始終,那顆,九號球,愛我,出差,追逐,生活,一直,逃走,翻過,圍牆,裡頭,挑釁,開球,苦頭,綠色,地平線,墮落,從前,書包,很滿,裝不下,丟了,未來,我們\n",
      "武裝 最後,開始,武裝,沒有,忘了,回憶,學著,自己,恐懼,摔壞,心愛,我學著,遠離,放棄,解體,愛過,特別,傷心,眼淚,洗過,強化,軟弱,個性,活著,珍惜,玩具,天空,名字,邏輯,愛上\n",
      "時光機 後悔,傷心,一個,最後,孤單,重來,再一次,不會,這樣,結局,放回去,願意,來換,時光機,對不起,獨自,迴盪,空氣,沒人,天明,行不行,付出,走向,陽光,場景,安靜,背多少,真不輕,溫暖,著迷\n",
      "我們_時時刻刻_ 我們,最後,曾經,那麼,為何,這麼,回憶,還我,遺憾,無關,時時刻刻,每個,現在,嘲笑,精彩,期待,好好,顫抖,下來,離開,給我,這個,計算,準確,傷害,對白,劃開,動脈,也許,醒來\n",
      "在這一秒 這一,快樂,眼淚,哪裡,盡情,胡鬧,重要,雖然,想要,知道,太牢,為什麼,看著,又給,一個,擁抱,前一秒,變好,好多人,找什麼,沒人,他們,其實,解藥,時間,切過,二十歲,怎麼,覺得,變老\n",
      "王子麵 變成,check,在乎,yo,幻覺,錯覺,體驗,離開,身邊,萬一,殘念,還是,T恤,同樣,現在,王子麵,時間,抱歉,信念,期待,就算,一遍,算是,決定,瞬間,man,一件,王子,自己,幸福\n",
      "小時候 當你,以為,其實,還有,整個,前面,小時候,有沒有,已累,愛已,純真,幻滅,視野,起點,Oo,oO,有個,飛上,外太空,越來越,Solo,夏夜,失去,世界,一切,閃爍,碩壯,長大,風雨,面對\n",
      "為愛而生 愛而生,我為,因為,這個,來到,越愛越,越陷,執著,靈魂,一個,生存,人生,曾經,一種,世界,長征,佔領,邊城,傷痕,犧牲,更動,愛更,永恆,燦爛,沸騰,不會,無名,煙塵,尾聲,愛是\n",
      "天使 依賴,天使,給我,天堂,眼淚,臉龐,一樣,詩人,最後,海豚,月亮,肩膀,海洋,最初,保護,從此,沒有,憂傷,快樂,學會,飛翔,飛過,人間,無常,愛才,寶藏,變得,怎麼樣,力量,孩子\n",
      "我又初戀了 初戀,真的,愛你,愛我,我們,藉口,在乎,難道,不可能,這一,FEEL,飛著,愛情,降講,一點,荒繆,犀利,就算,自由,第一次,一起,可是,一次,需要,每一次,愛裡,離開,一塊,切一塊,放膽\n",
      "香水 深深,獻上,一種,迷戀,愛上,沉醉,崇拜,快樂,傷悲,香香,狂顛,奉獻,哲學,世界,自我,香水,愛情,就給,全滅,亂世,拒絕,撒野,就算,最美,感性,理智,想要,魔戒,全身,十字軍\n",
      "快樂很偉大 越玩越,快樂,woo,大聲,不怕,cool,high,無限,無價,天都,偉大,爆發,腳下,雨下,夢想,發芽,貝多芬,十八世紀,怪咖,稱霸,結束,如果,前奏,想要,天空,明天,天下,很快,相信,自己\n",
      "忘詞 應該,溫柔,感動,內傷,想好,忘詞,好像,太久,忍耐,練習,這個,時候,這一,失敗,秒鐘,彩排,豁出去,那一,變得,一個,不斷,搭拉,沉默,就算,笨拙,歌手,出口,一定,想起,忘了\n",
      "寵上天 寵你,寵上,身邊,整個,就是,無時無刻,無怨無悔,一個,傻眼,朋友,搬到,天堂,鬼片,一種,蹂躪,隨便,羨慕,讚美,就算,虐待,想要,愛看,告訴,你還,無憂,無慮,每一天,動作,絕不,皺眉\n",
      "米老鼠 以為,我愛著,孤獨,無助,跳舞,夢中,裡面,殘酷,不會,照顧,崩潰,擁抱,盡情,自己,迷路,朋友,麻木,城堡,老鼠,一身,咖啡杯,不用,皮膚,白手套,短褲,一雙,隨時,是當,當我,聽著\n",
      "一千個世紀 我們,世紀,一千個,誕生,啊啊,我要,在一起,每次,學會,走過,輪迴,一起,當時,長出,活過,一個,意義,某天,相遇,年輕,荒涼,寒武紀,勇氣,開始,踩出,腳印,雙手,擁抱,愛情,人類\n",
      "勇敢_Braveness_ 勇敢,目屎,無情,命運,敢講,知影,一人攏,有時,放棄,怨嘆,想欲流,過去,苦盡甘來,著彼個,將來,一天,抑是,一遍,好歹,這是,世間,永遠,世人,滋味,一款,只有,黑暗,人生,安排,了解\n",
      "溫柔_MaydayBlue20th_TENDERNESS_MaydayBlue20th_ 沒有,溫柔,孤單,明瞭,為什麼,這是,想要,編曲,愛情,綺麗,總是,愛給,不知不覺,不情不願,因為,預兆,說過,自由,巷子,黎明,知道,明明,靠近,眼中,理由,賴暐哲,協力,JerryC,風中,陽光\n",
      "玫瑰少年_Womxnly_ 沒有,玫瑰,美麗,really,改變,day,哪朵,荊棘,報復,盛開,反擊,愛你,心裡,全心,最美,身體,生而為,無罪,will,baby,boy,gon,me,喧嘩,安靜,wish,could,hug,till,re\n",
      "私奔到月球 我們,私奔,123,著手,456,789,雙腳,騰空,無憂,純真,感動,月球,月色,真空,抬起,感受,阿信,這一刻,星球,作詞,陳綺貞,其實,手辣,綁架,兇手,機車,後座,吹著風,逃離,有五十\n",
      "牙關 這樣,等待,愛過,不會,丟下,承諾,之後,咬緊牙關,更多,然後,咬緊,牙關,最愛,繼續,天真,如果,痛哭,承受,永久,後面,那些,漂流,不能,沉默,等候,盡情,揮霍,那一年,快樂,巔峰\n",
      "亂世浮生 因為,命運,飛過,混亂,經過,分離,最後,交給,馬戲,開始,跑進,城裡,整個,場景,憂鬱,緊抓,紙飛機,邏輯,漂浮,小丑,道具,失控,坐上,大象,猴子,相遇,哭泣,亂世,這是,浮生\n",
      "聽不到 電話,聲音,那頭,若是,那麼,為何,我要,無處,暴走,世界,真心,生氣,還是,間奏,聽不到,撲通,做得到,知道,秘密,夜裡,軟弱,打給,那邊,空氣,什麼,話題,溫柔,給我,婉轉,距離\n",
      "金多蝦 金多,美麗,多謝,這多年,要衝,你攏,變化,陪伴,唱歌,很多,海洋,開始,裡住,十七歲,現在,知影,代誌,大漢,之後,這麼多,這一,挖心,感謝,直挺,不管,吉他,一直,地球,生命\n",
      "麥來亂 來亂,無緣,麥擱,最怕,別人,猶原,擱再給,愛我,心擱,我擱,電話,不接,不睬,破洞,山崩,思念,眼淚,一冬,感謝,我奈,希望,目眶,過一天,痛一天,親像,過一冬,開講,無採工,屏東,走過\n",
      "凡人歌_Song_of_Ordinary_People_ 何時,看見,為了,人們,改變,夢寐以求,容顏,擁有,你我,問你,春天,凡人,就算,人世間,終日,難免,雜念,道義,放兩旁,利字,中間,男子漢,紅顏,多少同,林鳥,飛燕,愛人,不見了,一怒,喊冤\n",
      "搖滾本事 因為,節奏,超能力,對手,輸掉,接關,沒什麼,為何,那麼多,豬頭,搖滾,必殺,不爽,就是,這一,生都,這個,樣子,本事,開始,錯過,藉口,囉嗦,吉他手,耳朵,等待,編曲,hate,myself,墮落\n",
      "我 這樣,my,god,耶耶耶,記得,小時候,總是,wanna,一生,作文簿,志願,哪裡,Oh,oh,Who,am,開心,飛出,潛水,還在,時間,後悔,最後,什麼,留不住,躲藏,ever,失落,蝴蝶,原地\n",
      "闖 為什麼,要給,一顆,跳動,心臟,徬徨,忘了,給我,飛翔,我活,這多,無聊,多麼,丟在,戰場,有沒有,一點,流浪,寂寞,這樣,翅膀,希望,想要,世界,每天,地方,爛命,一條,慌張,腳下\n",
      "轉眼_2018_自傳最終章_Final_Chapter_ 有沒有,自傳,最終,最愛,愛情,原來,飛翔,身旁,幻象,沙堡,生命,轉眼,瀏覽,命運,風光,混濁,風乾,花漾,一張,千萬個,那一年,一樣,飛揚,還是,放開,雙掌,曾握,體溫,漸涼,某個\n",
      "DNA 心跳,別靠,心臟,火藥,要不要,難道,別人,決定,現在,搶回,好不好,搬進,大腦,綁住,手腳,DNA,反調,還是,命運,自編,自導,想要,自己,鏡子,一樣,總是,有夠,衰小,禱告,只會\n",
      "放肆 放肆,夢想,永遠,一個,大鬧,一場,原諒,還是,這樣,裝滿,信仰,還有,什麼,很多,乾脆,不能,還不如,不多想,每一個,險惡,綻放,決定,邊衝邊,欣賞,牛頓,我們,飛翔,掙脫,命運,綑綁\n",
      "瘋狂世界_MaydayBlue20th_World_Crazy_MaydayBlue20th_ 那麼多,這個,想飛,逃離,瘋狂,想好,發現,別將,世界,挽回,莫名,淚水,後悔,多麼,傷悲,瞭解,如果,用力,編曲,恆毅,如果說,回憶,活著,狼狽,為什麼,總要,轉眼,浪費,五月天,指尖\n",
      "小太陽 看著,太陽,忍著淚,閃著光,我會,回來,繼續,我們,臉龐,眼眶,天堂,盼望,小小,微笑,多麼,手中,徬徨,難忘,純真,模樣,彌漫,嚮往,夢想,總是,漫長,蒸發,挖開,種下,離開,故鄉\n",
      "純真_MaydayBlue20th_INNOCENCE_MaydayBlue20th_ 閃爍,無聲,怎麼,感覺,整個,震動,裡我,聽到,節奏,怎麼說,拉起,心跳,星星,黑夜,總是,沒有,力氣,這麼,耳朵,之中,世界,地球,編曲,賴暐哲,長長,我們,開口,繞著,太陽,以為\n",
      "Do_You_Ever_Shine_BITTER_BLOOD_Version LaLa,Do,ever,JaLa,shine,JaLaLa,DaDaDaLaLa,live,die,Ja,try,DaLa,run,away,friction,will,still,trapped,cage,til,get,lost,trouble,won,see,brightest,sunlight,DaLaLa,LaLan,LaLaLan\n",
      "I_WILL_CARRY_YOU Carry,Will,我們,信仰,還有,唯一,心靈,沒有,贏了,怎樣,一條,永遠,一念,不忘,身旁,五秒,痴狂,抵達,戰場,殘存,倔強,什麼,遺忘,不斷,天譴,怎麼,依賴,雞湯,變成,對仗\n",
      "青春の彼方_盛夏光年 轉彎,未來,現在,放棄,規則,放縱,放空,光年,盛夏,放肆,貪玩,殘酷,狂放,驕傲,破壞,最愛,簡單,混亂,這樣,喜歡,一萬首,mp3,一萬次,瘋狂,滅不,一個,孤單,一場,狂歡,來到\n",
      "將軍令 什麼,Oh,他們,怎麼,如長,記住,那個,將會,你我,何時,我們,抬頭,盡頭,吹過,心頭,為什麼,此生,名字,生命,失去,相信,英雄,沈重,編曲,張勝凱,一聲,以後,習慣,這種,其實\n",
      "Dancin_Dancin_feat_TERU_GLAY_ Dancin,oh,Fireball,High,Hey,Watch,Your,Step,No,最後,邪道,聲音,已經,ah,為了,夢想,meramerameramera,燃燒,認真,偶爾,煩躁,沒什麼,旁門左道,舞動,現在,彷如,狂風,人們,薔薇,玫瑰\n",
      "羅蜜歐與茱麗葉 我們,一場,雙眼,沒有,一種,狂熱,華麗,快樂,睜開,東西,ohyeah,生病,看不到,翻覆,轟轟烈烈,劇情,朱門,兩人,其實,莎翁,詭計,終點,童話,要往,哪裡,一個,漩渦,真實,有什麼,閉上\n",
      "公路電影 愛情,一場,沒有,人會,傷心,真的,在意,哪裡,狂風,傳回,聲音,擁有,回憶,代價,離開,一聲,嘆息,遊戲,電影,蒸發,不想問,前開,照後鏡,退後,風景,下一個,距離,間奏,甩不掉,反正\n",
      "年華_Ost_Version 追憶,如果說,回頭,為何,年華,追逐,總有,那夢中,童話,害怕,不必,似水,解答,總會,到達,那似,人生,幸福,間奏,永遠,理想,鞦韆,孤獨,的搖,曾經,快樂,擺盪,搖曳,陽光,蒸發\n"
     ]
    }
   ],
   "source": [
    "import matplotlib.pyplot as plt\n",
    "import numpy as np\n",
    "import jieba.analyse\n",
    "import codecs\n",
    "from wordcloud import WordCloud # 最高只能用 python 3.7\n",
    "\n",
    "# 設定為繁中字典\n",
    "jieba.set_dictionary(\"./Desktop/dict.txt\")\n",
    "\n",
    "\n",
    "for album, song, lyrics in final:\n",
    "    \n",
    "\n",
    "# 每首歌的前10大tag\n",
    "    words = jieba.analyse.extract_tags(lyrics,30)\n",
    "    print(song,\",\".join(words))\n",
    "    text = ' '.join(words)\n",
    "    \n",
    "# # 把所有歌的10大tags取N個tags\n",
    "# with open(\"lyrics/lyrics_tags.txt\", \"rb\") as f2:\n",
    "#     for line in f2:\n",
    "#         tags = jieba.analyse.extract_tags(line,15) #取Ｎ個tags\n",
    "#         print(\",\".join(tags))\n",
    "# f2.close()\n",
    "\n",
    "\n",
    "# # 讀取欲透過文字雲計算詞頻的檔案\n",
    "# text = open(\"lyrics/lyrics_tags.txt\").read()\n",
    "# # 建立停用字\n",
    "# stopwords = {}.fromkeys([\"沒有\",\"一個\",\"什麼\",\"那個\"])  \n",
    "\n",
    "    wc = WordCloud(font_path=\"./SourceHanSansTW-Regular.otf\", #設置字體\n",
    "                   background_color=\"white\", #背景顏色\n",
    "                   max_words = 2000)#文字雲顯示最大詞數\n",
    "\n",
    "\n",
    "# 產生文字雲\n",
    "    wc.generate(text)\n",
    "\n",
    "# # 視覺化\n",
    "# plt.imshow(wc)\n",
    "# plt.axis(\"off\")\n",
    "# plt.figure(figsize=(10,6), dpi = 100)\n",
    "# plt.show()\n",
    "\n",
    "# # 存檔\n",
    "    wc.to_file(f\"./wordcloud/五月天/{album}_{song}.jpg\")"
   ]
  },
  {
   "cell_type": "markdown",
   "id": "e23f7e1a-fff8-4c0d-a00d-693f389a8ad9",
   "metadata": {},
   "source": [
    "---"
   ]
  },
  {
   "cell_type": "markdown",
   "id": "d772157c-51a5-441f-888f-fd8faeb7e444",
   "metadata": {},
   "source": [
    "## 全部歌詞合併"
   ]
  },
  {
   "cell_type": "code",
   "execution_count": 15,
   "id": "4f6f9f88-c9cd-4fd8-8104-43b313458111",
   "metadata": {},
   "outputs": [
    {
     "name": "stdout",
     "output_type": "stream",
     "text": [
      "70631\n"
     ]
    }
   ],
   "source": [
    "import pandas as pd\n",
    "dddf = pd.read_csv('五月天歌詞.csv', index_col=0)\n",
    "\n",
    "lyrics_list = list(dddf.歌詞)\n",
    "final = ''\n",
    "for j in lyrics_list:\n",
    "    final += str(j+' ')\n",
    "print(len(final))"
   ]
  },
  {
   "cell_type": "code",
   "execution_count": 16,
   "id": "7bba7b10-78b8-444b-a1d4-bc1a4ad08cae",
   "metadata": {},
   "outputs": [
    {
     "name": "stderr",
     "output_type": "stream",
     "text": [
      "Building prefix dict from C:\\Users\\Tibame_25\\Desktop\\dict.txt ...\n",
      "Loading model from cache C:\\Users\\TIBAME~1\\AppData\\Local\\Temp\\jieba.u5fa79430814e128e0e86c1a6288de894.cache\n",
      "Loading model cost 0.477 seconds.\n",
      "Prefix dict has been built successfully.\n"
     ]
    },
    {
     "name": "stdout",
     "output_type": "stream",
     "text": [
      "沒有,oh,永遠,最後,快樂,回憶,愛情,世界,這一,人生,變成,La,未來,想要,命運,現在,孤單,喔喔,眼淚,LA,時間,終於,已經,溫柔,發現,有沒有,瘋狂,一種,那麼多,就算,每個,煩惱,無法,改變,如果,決定,HoSee,Dancin,離開,感覺,爆肝,OA,間奏,你我,這麼\n"
     ]
    }
   ],
   "source": [
    "import matplotlib.pyplot as plt\n",
    "import numpy as np\n",
    "import jieba.analyse\n",
    "import codecs\n",
    "from wordcloud import WordCloud # 最高只能用 python 3.7\n",
    "jieba.set_dictionary(\"./dict.txt\") # 設定繁體中文字典\n",
    "jieba.analyse.set_stop_words('stop.txt') # 停用詞字典設定\n",
    "\n",
    "words = jieba.analyse.extract_tags(final,45) # 抓取前幾個關鍵字\n",
    "print(\",\".join(words))\n",
    "text = ' '.join(words)"
   ]
  },
  {
   "cell_type": "code",
   "execution_count": 47,
   "id": "49609247-33ca-4dbd-a8b0-eecddc38cd60",
   "metadata": {},
   "outputs": [
    {
     "data": {
      "image/png": "[encoded data removed]",
      "text/plain": [
       "<Figure size 432x288 with 1 Axes>"
      ]
     },
     "metadata": {
      "needs_background": "light"
     },
     "output_type": "display_data"
    },
    {
     "data": {
      "text/plain": [
       "<Figure size 1000x600 with 0 Axes>"
      ]
     },
     "metadata": {},
     "output_type": "display_data"
    }
   ],
   "source": [
    "wc = WordCloud(font_path=\"./SourceHanSansTW-Regular.otf\", #設置字體\n",
    "                   background_color=\"white\", #背景顏色\n",
    "                   max_words = 2000)#文字雲顯示最大詞數\n",
    "\n",
    "\n",
    "# 產生文字雲\n",
    "wc.generate(text)\n",
    "\n",
    "# 視覺化\n",
    "plt.imshow(wc)\n",
    "plt.axis(\"off\")\n",
    "plt.figure(figsize=(10,6), dpi = 100)\n",
    "plt.show()\n",
    "\n",
    "# # 存檔\n",
    "# wc.to_file(f\"./wordcloud/五月天/全部歌曲_停用詞.jpg\")"
   ]
  }
 ],
 "metadata": {
  "kernelspec": {
   "display_name": "Python 3",
   "language": "python",
   "name": "python3"
  },
  "language_info": {
   "codemirror_mode": {
    "name": "ipython",
    "version": 3
   },
   "file_extension": ".py",
   "mimetype": "text/x-python",
   "name": "python",
   "nbconvert_exporter": "python",
   "pygments_lexer": "ipython3",
   "version": "3.9.4"
  }
 },
 "nbformat": 4,
 "nbformat_minor": 5
}
